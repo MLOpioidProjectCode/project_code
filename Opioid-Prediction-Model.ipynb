{
 "cells": [
  {
   "cell_type": "code",
   "execution_count": 1,
   "metadata": {},
   "outputs": [
    {
     "name": "stderr",
     "output_type": "stream",
     "text": [
      "C:\\ProgramData\\Anaconda3\\envs\\py3-TF2.0\\lib\\site-packages\\numpy\\_distributor_init.py:30: UserWarning: loaded more than 1 DLL from .libs:\n",
      "C:\\ProgramData\\Anaconda3\\envs\\py3-TF2.0\\lib\\site-packages\\numpy\\.libs\\libopenblas.PYQHXLVVQ7VESDPUVUADXEVJOBGHJPAY.gfortran-win_amd64.dll\n",
      "C:\\ProgramData\\Anaconda3\\envs\\py3-TF2.0\\lib\\site-packages\\numpy\\.libs\\libopenblas.WCDJNK7YVMPZQ2ME2ZZHJJRJ3JIKNDB7.gfortran-win_amd64.dll\n",
      "  warnings.warn(\"loaded more than 1 DLL from .libs:\"\n"
     ]
    },
    {
     "data": {
      "text/html": [
       "        <script type=\"text/javascript\">\n",
       "        window.PlotlyConfig = {MathJaxConfig: 'local'};\n",
       "        if (window.MathJax) {MathJax.Hub.Config({SVG: {font: \"STIX-Web\"}});}\n",
       "        if (typeof require !== 'undefined') {\n",
       "        require.undef(\"plotly\");\n",
       "        requirejs.config({\n",
       "            paths: {\n",
       "                'plotly': ['https://cdn.plot.ly/plotly-2.2.0.min']\n",
       "            }\n",
       "        });\n",
       "        require(['plotly'], function(Plotly) {\n",
       "            window._Plotly = Plotly;\n",
       "        });\n",
       "        }\n",
       "        </script>\n",
       "        "
      ]
     },
     "metadata": {},
     "output_type": "display_data"
    }
   ],
   "source": [
    "import numpy as np \n",
    "import pandas as pd \n",
    "import seaborn as sns\n",
    "import matplotlib.pyplot as plt\n",
    "import numpy as np\n",
    "\n",
    "from plotly.offline import init_notebook_mode, iplot, plot\n",
    "from plotly.subplots import make_subplots\n",
    "import plotly.express as px\n",
    "import plotly as py\n",
    "init_notebook_mode(connected=True)\n",
    "import plotly.graph_objs as go\n",
    "\n",
    "from sklearn.neighbors import NearestNeighbors\n",
    "from sklearn.impute import SimpleImputer\n",
    "from sklearn.linear_model import LinearRegression, LogisticRegression, Perceptron\n",
    "from sklearn.metrics import accuracy_score, roc_auc_score, roc_curve\n",
    "from sklearn.metrics import mean_absolute_error, r2_score\n",
    "from sklearn.model_selection import KFold, StratifiedKFold\n",
    "from sklearn.neighbors import KNeighborsClassifier, KNeighborsRegressor\n",
    "from sklearn.naive_bayes import GaussianNB\n",
    "from sklearn.tree import DecisionTreeClassifier, DecisionTreeRegressor\n",
    "from sklearn.model_selection import train_test_split\n",
    "from sklearn.utils import resample"
   ]
  },
  {
   "cell_type": "markdown",
   "metadata": {},
   "source": [
    "<h2>Loading Data</h2>"
   ]
  },
  {
   "cell_type": "code",
   "execution_count": 2,
   "metadata": {},
   "outputs": [
    {
     "data": {
      "text/html": [
       "<div>\n",
       "<style scoped>\n",
       "    .dataframe tbody tr th:only-of-type {\n",
       "        vertical-align: middle;\n",
       "    }\n",
       "\n",
       "    .dataframe tbody tr th {\n",
       "        vertical-align: top;\n",
       "    }\n",
       "\n",
       "    .dataframe thead th {\n",
       "        text-align: right;\n",
       "    }\n",
       "</style>\n",
       "<table border=\"1\" class=\"dataframe\">\n",
       "  <thead>\n",
       "    <tr style=\"text-align: right;\">\n",
       "      <th></th>\n",
       "      <th>ID</th>\n",
       "      <th>Date</th>\n",
       "      <th>Date Type</th>\n",
       "      <th>Age</th>\n",
       "      <th>Sex</th>\n",
       "      <th>Race</th>\n",
       "      <th>Residence City</th>\n",
       "      <th>Residence County</th>\n",
       "      <th>Residence State</th>\n",
       "      <th>Death City</th>\n",
       "      <th>...</th>\n",
       "      <th>Morphine (Not Heroin)</th>\n",
       "      <th>Hydromorphone</th>\n",
       "      <th>Xylazine</th>\n",
       "      <th>Other</th>\n",
       "      <th>Opiate NOS</th>\n",
       "      <th>Any Opioid</th>\n",
       "      <th>Manner of Death</th>\n",
       "      <th>DeathCityGeo</th>\n",
       "      <th>ResidenceCityGeo</th>\n",
       "      <th>InjuryCityGeo</th>\n",
       "    </tr>\n",
       "  </thead>\n",
       "  <tbody>\n",
       "    <tr>\n",
       "      <th>0</th>\n",
       "      <td>12-0187</td>\n",
       "      <td>07/17/2012</td>\n",
       "      <td>DateofDeath</td>\n",
       "      <td>34.0</td>\n",
       "      <td>Female</td>\n",
       "      <td>White</td>\n",
       "      <td>MAHOPAC</td>\n",
       "      <td>PUTNAM</td>\n",
       "      <td>NaN</td>\n",
       "      <td>DANBURY</td>\n",
       "      <td>...</td>\n",
       "      <td>NaN</td>\n",
       "      <td>NaN</td>\n",
       "      <td>NaN</td>\n",
       "      <td>Duster</td>\n",
       "      <td>NaN</td>\n",
       "      <td>NaN</td>\n",
       "      <td>Accident</td>\n",
       "      <td>DANBURY, CT\\r\\n(41.393666, -73.451539)</td>\n",
       "      <td>NaN</td>\n",
       "      <td>CT\\r\\n(41.575155, -72.738288)</td>\n",
       "    </tr>\n",
       "    <tr>\n",
       "      <th>1</th>\n",
       "      <td>12-0258</td>\n",
       "      <td>10/01/2012</td>\n",
       "      <td>DateofDeath</td>\n",
       "      <td>51.0</td>\n",
       "      <td>Male</td>\n",
       "      <td>White</td>\n",
       "      <td>PORTLAND</td>\n",
       "      <td>MIDDLESEX</td>\n",
       "      <td>NaN</td>\n",
       "      <td>PORTLAND</td>\n",
       "      <td>...</td>\n",
       "      <td>NaN</td>\n",
       "      <td>NaN</td>\n",
       "      <td>NaN</td>\n",
       "      <td>NaN</td>\n",
       "      <td>NaN</td>\n",
       "      <td>NaN</td>\n",
       "      <td>Accident</td>\n",
       "      <td>PORTLAND, CT\\r\\n(41.581345, -72.634112)</td>\n",
       "      <td>PORTLAND, CT\\r\\n(41.581345, -72.634112)</td>\n",
       "      <td>CT\\r\\n(41.575155, -72.738288)</td>\n",
       "    </tr>\n",
       "    <tr>\n",
       "      <th>2</th>\n",
       "      <td>13-0146</td>\n",
       "      <td>04/28/2013</td>\n",
       "      <td>DateofDeath</td>\n",
       "      <td>28.0</td>\n",
       "      <td>Male</td>\n",
       "      <td>White</td>\n",
       "      <td>NaN</td>\n",
       "      <td>NaN</td>\n",
       "      <td>NaN</td>\n",
       "      <td>HARTFORD</td>\n",
       "      <td>...</td>\n",
       "      <td>NaN</td>\n",
       "      <td>NaN</td>\n",
       "      <td>NaN</td>\n",
       "      <td>NaN</td>\n",
       "      <td>NaN</td>\n",
       "      <td>NaN</td>\n",
       "      <td>Accident</td>\n",
       "      <td>HARTFORD, CT\\r\\n(41.765775, -72.673356)</td>\n",
       "      <td>CT\\r\\n(41.575155, -72.738288)</td>\n",
       "      <td>CT\\r\\n(41.575155, -72.738288)</td>\n",
       "    </tr>\n",
       "    <tr>\n",
       "      <th>3</th>\n",
       "      <td>14-0150</td>\n",
       "      <td>04/06/2014</td>\n",
       "      <td>DateofDeath</td>\n",
       "      <td>46.0</td>\n",
       "      <td>Male</td>\n",
       "      <td>White</td>\n",
       "      <td>WATERBURY</td>\n",
       "      <td>NaN</td>\n",
       "      <td>NaN</td>\n",
       "      <td>TORRINGTON</td>\n",
       "      <td>...</td>\n",
       "      <td>NaN</td>\n",
       "      <td>NaN</td>\n",
       "      <td>NaN</td>\n",
       "      <td>NaN</td>\n",
       "      <td>NaN</td>\n",
       "      <td>NaN</td>\n",
       "      <td>Accident</td>\n",
       "      <td>TORRINGTON, CT\\r\\n(41.812186, -73.101552)</td>\n",
       "      <td>WATERBURY, CT\\r\\n(41.554261, -73.043069)</td>\n",
       "      <td>CT\\r\\n(41.575155, -72.738288)</td>\n",
       "    </tr>\n",
       "    <tr>\n",
       "      <th>4</th>\n",
       "      <td>14-0183</td>\n",
       "      <td>04/27/2014</td>\n",
       "      <td>DateofDeath</td>\n",
       "      <td>52.0</td>\n",
       "      <td>Male</td>\n",
       "      <td>White</td>\n",
       "      <td>NEW LONDON</td>\n",
       "      <td>NaN</td>\n",
       "      <td>NaN</td>\n",
       "      <td>NEW LONDON</td>\n",
       "      <td>...</td>\n",
       "      <td>NaN</td>\n",
       "      <td>NaN</td>\n",
       "      <td>NaN</td>\n",
       "      <td>NaN</td>\n",
       "      <td>NaN</td>\n",
       "      <td>NaN</td>\n",
       "      <td>Accident</td>\n",
       "      <td>NEW LONDON, CT\\r\\n(41.355167, -72.099561)</td>\n",
       "      <td>NEW LONDON, CT\\r\\n(41.355167, -72.099561)</td>\n",
       "      <td>CT\\r\\n(41.575155, -72.738288)</td>\n",
       "    </tr>\n",
       "  </tbody>\n",
       "</table>\n",
       "<p>5 rows × 42 columns</p>\n",
       "</div>"
      ],
      "text/plain": [
       "        ID        Date    Date Type   Age     Sex   Race Residence City  \\\n",
       "0  12-0187  07/17/2012  DateofDeath  34.0  Female  White        MAHOPAC   \n",
       "1  12-0258  10/01/2012  DateofDeath  51.0    Male  White       PORTLAND   \n",
       "2  13-0146  04/28/2013  DateofDeath  28.0    Male  White            NaN   \n",
       "3  14-0150  04/06/2014  DateofDeath  46.0    Male  White      WATERBURY   \n",
       "4  14-0183  04/27/2014  DateofDeath  52.0    Male  White     NEW LONDON   \n",
       "\n",
       "  Residence County Residence State  Death City  ... Morphine (Not Heroin)  \\\n",
       "0           PUTNAM             NaN     DANBURY  ...                   NaN   \n",
       "1        MIDDLESEX             NaN    PORTLAND  ...                   NaN   \n",
       "2              NaN             NaN    HARTFORD  ...                   NaN   \n",
       "3              NaN             NaN  TORRINGTON  ...                   NaN   \n",
       "4              NaN             NaN  NEW LONDON  ...                   NaN   \n",
       "\n",
       "  Hydromorphone Xylazine   Other Opiate NOS Any Opioid Manner of Death  \\\n",
       "0           NaN      NaN  Duster        NaN        NaN        Accident   \n",
       "1           NaN      NaN     NaN        NaN        NaN        Accident   \n",
       "2           NaN      NaN     NaN        NaN        NaN        Accident   \n",
       "3           NaN      NaN     NaN        NaN        NaN        Accident   \n",
       "4           NaN      NaN     NaN        NaN        NaN        Accident   \n",
       "\n",
       "                                DeathCityGeo  \\\n",
       "0     DANBURY, CT\\r\\n(41.393666, -73.451539)   \n",
       "1    PORTLAND, CT\\r\\n(41.581345, -72.634112)   \n",
       "2    HARTFORD, CT\\r\\n(41.765775, -72.673356)   \n",
       "3  TORRINGTON, CT\\r\\n(41.812186, -73.101552)   \n",
       "4  NEW LONDON, CT\\r\\n(41.355167, -72.099561)   \n",
       "\n",
       "                            ResidenceCityGeo                  InjuryCityGeo  \n",
       "0                                        NaN  CT\\r\\n(41.575155, -72.738288)  \n",
       "1    PORTLAND, CT\\r\\n(41.581345, -72.634112)  CT\\r\\n(41.575155, -72.738288)  \n",
       "2              CT\\r\\n(41.575155, -72.738288)  CT\\r\\n(41.575155, -72.738288)  \n",
       "3   WATERBURY, CT\\r\\n(41.554261, -73.043069)  CT\\r\\n(41.575155, -72.738288)  \n",
       "4  NEW LONDON, CT\\r\\n(41.355167, -72.099561)  CT\\r\\n(41.575155, -72.738288)  \n",
       "\n",
       "[5 rows x 42 columns]"
      ]
     },
     "execution_count": 2,
     "metadata": {},
     "output_type": "execute_result"
    }
   ],
   "source": [
    "drug_related_deaths = pd.read_csv(\"inputs/CT_Accidental_Drug_Related_Deaths_2012-2020_raw.csv\");\n",
    "drug_related_deaths.head()"
   ]
  },
  {
   "cell_type": "code",
   "execution_count": 3,
   "metadata": {},
   "outputs": [
    {
     "data": {
      "text/html": [
       "<div>\n",
       "<style scoped>\n",
       "    .dataframe tbody tr th:only-of-type {\n",
       "        vertical-align: middle;\n",
       "    }\n",
       "\n",
       "    .dataframe tbody tr th {\n",
       "        vertical-align: top;\n",
       "    }\n",
       "\n",
       "    .dataframe thead th {\n",
       "        text-align: right;\n",
       "    }\n",
       "</style>\n",
       "<table border=\"1\" class=\"dataframe\">\n",
       "  <thead>\n",
       "    <tr style=\"text-align: right;\">\n",
       "      <th></th>\n",
       "      <th>Drug Name</th>\n",
       "      <th>Generic Name</th>\n",
       "    </tr>\n",
       "  </thead>\n",
       "  <tbody>\n",
       "    <tr>\n",
       "      <th>0</th>\n",
       "      <td>ABSTRAL</td>\n",
       "      <td>FENTANYL CITRATE</td>\n",
       "    </tr>\n",
       "    <tr>\n",
       "      <th>1</th>\n",
       "      <td>ACETAMINOPHEN-CODEINE</td>\n",
       "      <td>ACETAMINOPHEN WITH CODEINE</td>\n",
       "    </tr>\n",
       "    <tr>\n",
       "      <th>2</th>\n",
       "      <td>ACTIQ</td>\n",
       "      <td>FENTANYL CITRATE</td>\n",
       "    </tr>\n",
       "    <tr>\n",
       "      <th>3</th>\n",
       "      <td>ASCOMP WITH CODEINE</td>\n",
       "      <td>CODEINE/BUTALBITAL/ASA/CAFFEIN</td>\n",
       "    </tr>\n",
       "    <tr>\n",
       "      <th>4</th>\n",
       "      <td>ASPIRIN-CAFFEINE-DIHYDROCODEIN</td>\n",
       "      <td>DIHYDROCODEINE/ASPIRIN/CAFFEIN</td>\n",
       "    </tr>\n",
       "  </tbody>\n",
       "</table>\n",
       "</div>"
      ],
      "text/plain": [
       "                        Drug Name                    Generic Name\n",
       "0                         ABSTRAL                FENTANYL CITRATE\n",
       "1           ACETAMINOPHEN-CODEINE      ACETAMINOPHEN WITH CODEINE\n",
       "2                           ACTIQ                FENTANYL CITRATE\n",
       "3             ASCOMP WITH CODEINE  CODEINE/BUTALBITAL/ASA/CAFFEIN\n",
       "4  ASPIRIN-CAFFEINE-DIHYDROCODEIN  DIHYDROCODEINE/ASPIRIN/CAFFEIN"
      ]
     },
     "execution_count": 3,
     "metadata": {},
     "output_type": "execute_result"
    }
   ],
   "source": [
    "opioids = pd.read_csv(\"inputs/opioids.csv\")\n",
    "opioids.head()"
   ]
  },
  {
   "cell_type": "code",
   "execution_count": 4,
   "metadata": {},
   "outputs": [
    {
     "data": {
      "text/html": [
       "<div>\n",
       "<style scoped>\n",
       "    .dataframe tbody tr th:only-of-type {\n",
       "        vertical-align: middle;\n",
       "    }\n",
       "\n",
       "    .dataframe tbody tr th {\n",
       "        vertical-align: top;\n",
       "    }\n",
       "\n",
       "    .dataframe thead th {\n",
       "        text-align: right;\n",
       "    }\n",
       "</style>\n",
       "<table border=\"1\" class=\"dataframe\">\n",
       "  <thead>\n",
       "    <tr style=\"text-align: right;\">\n",
       "      <th></th>\n",
       "      <th>State</th>\n",
       "      <th>Population</th>\n",
       "      <th>Deaths</th>\n",
       "      <th>Abbrev</th>\n",
       "    </tr>\n",
       "  </thead>\n",
       "  <tbody>\n",
       "    <tr>\n",
       "      <th>0</th>\n",
       "      <td>Alabama</td>\n",
       "      <td>4,833,722</td>\n",
       "      <td>723</td>\n",
       "      <td>AL</td>\n",
       "    </tr>\n",
       "    <tr>\n",
       "      <th>1</th>\n",
       "      <td>Alaska</td>\n",
       "      <td>735,132</td>\n",
       "      <td>124</td>\n",
       "      <td>AK</td>\n",
       "    </tr>\n",
       "    <tr>\n",
       "      <th>2</th>\n",
       "      <td>Arizona</td>\n",
       "      <td>6,626,624</td>\n",
       "      <td>1,211</td>\n",
       "      <td>AZ</td>\n",
       "    </tr>\n",
       "    <tr>\n",
       "      <th>3</th>\n",
       "      <td>Arkansas</td>\n",
       "      <td>2,959,373</td>\n",
       "      <td>356</td>\n",
       "      <td>AR</td>\n",
       "    </tr>\n",
       "    <tr>\n",
       "      <th>4</th>\n",
       "      <td>California</td>\n",
       "      <td>38,332,521</td>\n",
       "      <td>4,521</td>\n",
       "      <td>CA</td>\n",
       "    </tr>\n",
       "  </tbody>\n",
       "</table>\n",
       "</div>"
      ],
      "text/plain": [
       "        State  Population Deaths Abbrev\n",
       "0     Alabama   4,833,722    723     AL\n",
       "1      Alaska     735,132    124     AK\n",
       "2     Arizona   6,626,624  1,211     AZ\n",
       "3    Arkansas   2,959,373    356     AR\n",
       "4  California  38,332,521  4,521     CA"
      ]
     },
     "execution_count": 4,
     "metadata": {},
     "output_type": "execute_result"
    }
   ],
   "source": [
    "overdoses = pd.read_csv(\"inputs/overdoses.csv\")\n",
    "overdoses.head()"
   ]
  },
  {
   "cell_type": "code",
   "execution_count": 5,
   "metadata": {},
   "outputs": [
    {
     "data": {
      "text/html": [
       "<div>\n",
       "<style scoped>\n",
       "    .dataframe tbody tr th:only-of-type {\n",
       "        vertical-align: middle;\n",
       "    }\n",
       "\n",
       "    .dataframe tbody tr th {\n",
       "        vertical-align: top;\n",
       "    }\n",
       "\n",
       "    .dataframe thead th {\n",
       "        text-align: right;\n",
       "    }\n",
       "</style>\n",
       "<table border=\"1\" class=\"dataframe\">\n",
       "  <thead>\n",
       "    <tr style=\"text-align: right;\">\n",
       "      <th></th>\n",
       "      <th>NPI</th>\n",
       "      <th>Gender</th>\n",
       "      <th>State</th>\n",
       "      <th>Credentials</th>\n",
       "      <th>Specialty</th>\n",
       "      <th>ABILIFY</th>\n",
       "      <th>ACETAMINOPHEN.CODEINE</th>\n",
       "      <th>ACYCLOVIR</th>\n",
       "      <th>ADVAIR.DISKUS</th>\n",
       "      <th>AGGRENOX</th>\n",
       "      <th>...</th>\n",
       "      <th>VERAPAMIL.ER</th>\n",
       "      <th>VESICARE</th>\n",
       "      <th>VOLTAREN</th>\n",
       "      <th>VYTORIN</th>\n",
       "      <th>WARFARIN.SODIUM</th>\n",
       "      <th>XARELTO</th>\n",
       "      <th>ZETIA</th>\n",
       "      <th>ZIPRASIDONE.HCL</th>\n",
       "      <th>ZOLPIDEM.TARTRATE</th>\n",
       "      <th>Opioid.Prescriber</th>\n",
       "    </tr>\n",
       "  </thead>\n",
       "  <tbody>\n",
       "    <tr>\n",
       "      <th>0</th>\n",
       "      <td>1710982582</td>\n",
       "      <td>M</td>\n",
       "      <td>TX</td>\n",
       "      <td>DDS</td>\n",
       "      <td>Dentist</td>\n",
       "      <td>0</td>\n",
       "      <td>0</td>\n",
       "      <td>0</td>\n",
       "      <td>0</td>\n",
       "      <td>0</td>\n",
       "      <td>...</td>\n",
       "      <td>0</td>\n",
       "      <td>0</td>\n",
       "      <td>0</td>\n",
       "      <td>0</td>\n",
       "      <td>0</td>\n",
       "      <td>0</td>\n",
       "      <td>0</td>\n",
       "      <td>0</td>\n",
       "      <td>0</td>\n",
       "      <td>1</td>\n",
       "    </tr>\n",
       "    <tr>\n",
       "      <th>1</th>\n",
       "      <td>1245278100</td>\n",
       "      <td>F</td>\n",
       "      <td>AL</td>\n",
       "      <td>MD</td>\n",
       "      <td>General Surgery</td>\n",
       "      <td>0</td>\n",
       "      <td>0</td>\n",
       "      <td>0</td>\n",
       "      <td>0</td>\n",
       "      <td>0</td>\n",
       "      <td>...</td>\n",
       "      <td>0</td>\n",
       "      <td>0</td>\n",
       "      <td>0</td>\n",
       "      <td>0</td>\n",
       "      <td>0</td>\n",
       "      <td>0</td>\n",
       "      <td>0</td>\n",
       "      <td>0</td>\n",
       "      <td>35</td>\n",
       "      <td>1</td>\n",
       "    </tr>\n",
       "    <tr>\n",
       "      <th>2</th>\n",
       "      <td>1427182161</td>\n",
       "      <td>F</td>\n",
       "      <td>NY</td>\n",
       "      <td>M.D.</td>\n",
       "      <td>General Practice</td>\n",
       "      <td>0</td>\n",
       "      <td>0</td>\n",
       "      <td>0</td>\n",
       "      <td>0</td>\n",
       "      <td>0</td>\n",
       "      <td>...</td>\n",
       "      <td>0</td>\n",
       "      <td>0</td>\n",
       "      <td>0</td>\n",
       "      <td>0</td>\n",
       "      <td>0</td>\n",
       "      <td>0</td>\n",
       "      <td>0</td>\n",
       "      <td>0</td>\n",
       "      <td>25</td>\n",
       "      <td>0</td>\n",
       "    </tr>\n",
       "    <tr>\n",
       "      <th>3</th>\n",
       "      <td>1669567541</td>\n",
       "      <td>M</td>\n",
       "      <td>AZ</td>\n",
       "      <td>MD</td>\n",
       "      <td>Internal Medicine</td>\n",
       "      <td>0</td>\n",
       "      <td>43</td>\n",
       "      <td>0</td>\n",
       "      <td>0</td>\n",
       "      <td>0</td>\n",
       "      <td>...</td>\n",
       "      <td>0</td>\n",
       "      <td>0</td>\n",
       "      <td>0</td>\n",
       "      <td>0</td>\n",
       "      <td>0</td>\n",
       "      <td>0</td>\n",
       "      <td>0</td>\n",
       "      <td>0</td>\n",
       "      <td>0</td>\n",
       "      <td>1</td>\n",
       "    </tr>\n",
       "    <tr>\n",
       "      <th>4</th>\n",
       "      <td>1679650949</td>\n",
       "      <td>M</td>\n",
       "      <td>NV</td>\n",
       "      <td>M.D.</td>\n",
       "      <td>Hematology/Oncology</td>\n",
       "      <td>0</td>\n",
       "      <td>0</td>\n",
       "      <td>0</td>\n",
       "      <td>0</td>\n",
       "      <td>0</td>\n",
       "      <td>...</td>\n",
       "      <td>0</td>\n",
       "      <td>0</td>\n",
       "      <td>0</td>\n",
       "      <td>0</td>\n",
       "      <td>17</td>\n",
       "      <td>28</td>\n",
       "      <td>0</td>\n",
       "      <td>0</td>\n",
       "      <td>0</td>\n",
       "      <td>1</td>\n",
       "    </tr>\n",
       "  </tbody>\n",
       "</table>\n",
       "<p>5 rows × 256 columns</p>\n",
       "</div>"
      ],
      "text/plain": [
       "          NPI Gender State Credentials            Specialty  ABILIFY  \\\n",
       "0  1710982582      M    TX         DDS              Dentist        0   \n",
       "1  1245278100      F    AL          MD      General Surgery        0   \n",
       "2  1427182161      F    NY        M.D.     General Practice        0   \n",
       "3  1669567541      M    AZ          MD    Internal Medicine        0   \n",
       "4  1679650949      M    NV        M.D.  Hematology/Oncology        0   \n",
       "\n",
       "   ACETAMINOPHEN.CODEINE  ACYCLOVIR  ADVAIR.DISKUS  AGGRENOX  ...  \\\n",
       "0                      0          0              0         0  ...   \n",
       "1                      0          0              0         0  ...   \n",
       "2                      0          0              0         0  ...   \n",
       "3                     43          0              0         0  ...   \n",
       "4                      0          0              0         0  ...   \n",
       "\n",
       "   VERAPAMIL.ER  VESICARE  VOLTAREN  VYTORIN  WARFARIN.SODIUM  XARELTO  ZETIA  \\\n",
       "0             0         0         0        0                0        0      0   \n",
       "1             0         0         0        0                0        0      0   \n",
       "2             0         0         0        0                0        0      0   \n",
       "3             0         0         0        0                0        0      0   \n",
       "4             0         0         0        0               17       28      0   \n",
       "\n",
       "   ZIPRASIDONE.HCL  ZOLPIDEM.TARTRATE  Opioid.Prescriber  \n",
       "0                0                  0                  1  \n",
       "1                0                 35                  1  \n",
       "2                0                 25                  0  \n",
       "3                0                  0                  1  \n",
       "4                0                  0                  1  \n",
       "\n",
       "[5 rows x 256 columns]"
      ]
     },
     "execution_count": 5,
     "metadata": {},
     "output_type": "execute_result"
    }
   ],
   "source": [
    "prescriber = pd.read_csv(\"inputs/prescriber-info.csv\")\n",
    "prescriber.head()"
   ]
  },
  {
   "cell_type": "markdown",
   "metadata": {},
   "source": [
    "<h2>Data Preprocessing</h2>"
   ]
  },
  {
   "cell_type": "code",
   "execution_count": 6,
   "metadata": {},
   "outputs": [],
   "source": [
    "overdoses['Deaths'] = overdoses['Deaths'].str.replace(',', '')\n",
    "overdoses['Deaths'] = overdoses['Deaths'].astype(int)"
   ]
  },
  {
   "cell_type": "code",
   "execution_count": 7,
   "metadata": {},
   "outputs": [],
   "source": [
    "overdoses['Population'] = overdoses['Population'].str.replace(',', '')\n",
    "overdoses['Population'] = overdoses['Population'].astype(int)"
   ]
  },
  {
   "cell_type": "code",
   "execution_count": 8,
   "metadata": {},
   "outputs": [],
   "source": [
    "overdoses['Deaths Per Capita'] = (overdoses['Deaths']/overdoses['Population'])"
   ]
  },
  {
   "cell_type": "code",
   "execution_count": 9,
   "metadata": {},
   "outputs": [
    {
     "data": {
      "text/html": [
       "<div>\n",
       "<style scoped>\n",
       "    .dataframe tbody tr th:only-of-type {\n",
       "        vertical-align: middle;\n",
       "    }\n",
       "\n",
       "    .dataframe tbody tr th {\n",
       "        vertical-align: top;\n",
       "    }\n",
       "\n",
       "    .dataframe thead th {\n",
       "        text-align: right;\n",
       "    }\n",
       "</style>\n",
       "<table border=\"1\" class=\"dataframe\">\n",
       "  <thead>\n",
       "    <tr style=\"text-align: right;\">\n",
       "      <th></th>\n",
       "      <th>State</th>\n",
       "      <th>Population</th>\n",
       "      <th>Deaths</th>\n",
       "      <th>Abbrev</th>\n",
       "      <th>Deaths Per Capita</th>\n",
       "    </tr>\n",
       "  </thead>\n",
       "  <tbody>\n",
       "    <tr>\n",
       "      <th>0</th>\n",
       "      <td>Alabama</td>\n",
       "      <td>4833722</td>\n",
       "      <td>723</td>\n",
       "      <td>AL</td>\n",
       "      <td>0.000150</td>\n",
       "    </tr>\n",
       "    <tr>\n",
       "      <th>1</th>\n",
       "      <td>Alaska</td>\n",
       "      <td>735132</td>\n",
       "      <td>124</td>\n",
       "      <td>AK</td>\n",
       "      <td>0.000169</td>\n",
       "    </tr>\n",
       "    <tr>\n",
       "      <th>2</th>\n",
       "      <td>Arizona</td>\n",
       "      <td>6626624</td>\n",
       "      <td>1211</td>\n",
       "      <td>AZ</td>\n",
       "      <td>0.000183</td>\n",
       "    </tr>\n",
       "    <tr>\n",
       "      <th>3</th>\n",
       "      <td>Arkansas</td>\n",
       "      <td>2959373</td>\n",
       "      <td>356</td>\n",
       "      <td>AR</td>\n",
       "      <td>0.000120</td>\n",
       "    </tr>\n",
       "    <tr>\n",
       "      <th>4</th>\n",
       "      <td>California</td>\n",
       "      <td>38332521</td>\n",
       "      <td>4521</td>\n",
       "      <td>CA</td>\n",
       "      <td>0.000118</td>\n",
       "    </tr>\n",
       "  </tbody>\n",
       "</table>\n",
       "</div>"
      ],
      "text/plain": [
       "        State  Population  Deaths Abbrev  Deaths Per Capita\n",
       "0     Alabama     4833722     723     AL           0.000150\n",
       "1      Alaska      735132     124     AK           0.000169\n",
       "2     Arizona     6626624    1211     AZ           0.000183\n",
       "3    Arkansas     2959373     356     AR           0.000120\n",
       "4  California    38332521    4521     CA           0.000118"
      ]
     },
     "execution_count": 9,
     "metadata": {},
     "output_type": "execute_result"
    }
   ],
   "source": [
    "overdoses.head()"
   ]
  },
  {
   "cell_type": "code",
   "execution_count": 10,
   "metadata": {},
   "outputs": [],
   "source": [
    "def plot_graph(deaths_per_capita, states, title):\n",
    "    \n",
    "    ## Bar chart\n",
    "    Xaxis = deaths_per_capita\n",
    "    Yaxis = states #similar_df.loc[player_id].map(id_name).values[::-1]\n",
    "\n",
    "    fig = go.Figure(go.Bar(\n",
    "                x=Xaxis,\n",
    "                y=Yaxis,\n",
    "                orientation='h'))\n",
    "    \n",
    "    fig.update_layout(title_text=title)\n",
    "    fig.show()"
   ]
  },
  {
   "cell_type": "code",
   "execution_count": 11,
   "metadata": {},
   "outputs": [
    {
     "data": {
      "application/vnd.plotly.v1+json": {
       "config": {
        "plotlyServerURL": "https://plot.ly"
       },
       "data": [
        {
         "orientation": "h",
         "type": "bar",
         "x": [
          0.0001495741790694624,
          0.00016867718994683948,
          0.00018274765551810394,
          0.00012029575183662215,
          0.00011794162977175439,
          0.00017064111137284096,
          0.00017324419923917154,
          0.00020415901070376527,
          0.0001347117506083509,
          0.000120694540033208,
          0.00011181906109024297,
          0.00013150255313447502,
          0.00013235383731035268,
          0.00017836211832104634,
          8.542539256850857e-05,
          0.00011472181514790993,
          0.00024503474738328144,
          0.00016798292930231954,
          0.00016261362250452081,
          0.00018047454347530552,
          0.0001925943368598965,
          0.00017805853942278718,
          9.538076666211594e-05,
          0.00011232923699362832,
          0.00017653372149795232,
          0.00012313269271497737,
          6.689800890118148e-05,
          0.00019533098028196475,
          0.0002523689815853759,
          0.0001407969737977169,
          0.0002623140124117208,
          0.00011704163328647767,
          0.00013789517935512173,
          5.9442101319752885e-05,
          0.00023714852065646582,
          0.00020178841147591733,
          0.00013282223067557407,
          0.00021387525921219534,
          0.00023490006286191965,
          0.00014681123279758752,
          7.456706715888821e-05,
          0.00019535164681900091,
          9.83432025015849e-05,
          0.00020786853056598153,
          0.00013245455851140225,
          0.00011863825078794562,
          0.00014043078254228773,
          0.000338132258788203,
          0.00014853606648982808,
          0.00018707372077616716
         ],
         "y": [
          "Alabama",
          "Alaska",
          "Arizona",
          "Arkansas",
          "California",
          "Colorado",
          "Connecticut",
          "Delaware",
          "Florida",
          "Georgia",
          "Hawaii",
          "Idaho",
          "Illinois",
          "Indiana",
          "Iowa",
          "Kansas",
          "Kentucky",
          "Louisiana",
          "Maine",
          "Maryland",
          "Massachusetts",
          "Michigan",
          "Minnesota",
          "Mississippi",
          "Missouri",
          "Montana",
          "Nebraska",
          "Nevada",
          "New Hampshire",
          "New Jersey",
          "New Mexico",
          "New York",
          "North Carolina",
          "North Dakota",
          "Ohio",
          "Oklahoma",
          "Oregon",
          "Pennsylvania",
          "Rhode Island",
          "South Carolina",
          "South Dakota",
          "Tennessee",
          "Texas",
          "Utah",
          "Vermont",
          "Virginia",
          "Washington",
          "West Virginia",
          "Wisconsin",
          "Wyoming"
         ]
        }
       ],
       "layout": {
        "template": {
         "data": {
          "bar": [
           {
            "error_x": {
             "color": "#2a3f5f"
            },
            "error_y": {
             "color": "#2a3f5f"
            },
            "marker": {
             "line": {
              "color": "#E5ECF6",
              "width": 0.5
             },
             "pattern": {
              "fillmode": "overlay",
              "size": 10,
              "solidity": 0.2
             }
            },
            "type": "bar"
           }
          ],
          "barpolar": [
           {
            "marker": {
             "line": {
              "color": "#E5ECF6",
              "width": 0.5
             },
             "pattern": {
              "fillmode": "overlay",
              "size": 10,
              "solidity": 0.2
             }
            },
            "type": "barpolar"
           }
          ],
          "carpet": [
           {
            "aaxis": {
             "endlinecolor": "#2a3f5f",
             "gridcolor": "white",
             "linecolor": "white",
             "minorgridcolor": "white",
             "startlinecolor": "#2a3f5f"
            },
            "baxis": {
             "endlinecolor": "#2a3f5f",
             "gridcolor": "white",
             "linecolor": "white",
             "minorgridcolor": "white",
             "startlinecolor": "#2a3f5f"
            },
            "type": "carpet"
           }
          ],
          "choropleth": [
           {
            "colorbar": {
             "outlinewidth": 0,
             "ticks": ""
            },
            "type": "choropleth"
           }
          ],
          "contour": [
           {
            "colorbar": {
             "outlinewidth": 0,
             "ticks": ""
            },
            "colorscale": [
             [
              0,
              "#0d0887"
             ],
             [
              0.1111111111111111,
              "#46039f"
             ],
             [
              0.2222222222222222,
              "#7201a8"
             ],
             [
              0.3333333333333333,
              "#9c179e"
             ],
             [
              0.4444444444444444,
              "#bd3786"
             ],
             [
              0.5555555555555556,
              "#d8576b"
             ],
             [
              0.6666666666666666,
              "#ed7953"
             ],
             [
              0.7777777777777778,
              "#fb9f3a"
             ],
             [
              0.8888888888888888,
              "#fdca26"
             ],
             [
              1,
              "#f0f921"
             ]
            ],
            "type": "contour"
           }
          ],
          "contourcarpet": [
           {
            "colorbar": {
             "outlinewidth": 0,
             "ticks": ""
            },
            "type": "contourcarpet"
           }
          ],
          "heatmap": [
           {
            "colorbar": {
             "outlinewidth": 0,
             "ticks": ""
            },
            "colorscale": [
             [
              0,
              "#0d0887"
             ],
             [
              0.1111111111111111,
              "#46039f"
             ],
             [
              0.2222222222222222,
              "#7201a8"
             ],
             [
              0.3333333333333333,
              "#9c179e"
             ],
             [
              0.4444444444444444,
              "#bd3786"
             ],
             [
              0.5555555555555556,
              "#d8576b"
             ],
             [
              0.6666666666666666,
              "#ed7953"
             ],
             [
              0.7777777777777778,
              "#fb9f3a"
             ],
             [
              0.8888888888888888,
              "#fdca26"
             ],
             [
              1,
              "#f0f921"
             ]
            ],
            "type": "heatmap"
           }
          ],
          "heatmapgl": [
           {
            "colorbar": {
             "outlinewidth": 0,
             "ticks": ""
            },
            "colorscale": [
             [
              0,
              "#0d0887"
             ],
             [
              0.1111111111111111,
              "#46039f"
             ],
             [
              0.2222222222222222,
              "#7201a8"
             ],
             [
              0.3333333333333333,
              "#9c179e"
             ],
             [
              0.4444444444444444,
              "#bd3786"
             ],
             [
              0.5555555555555556,
              "#d8576b"
             ],
             [
              0.6666666666666666,
              "#ed7953"
             ],
             [
              0.7777777777777778,
              "#fb9f3a"
             ],
             [
              0.8888888888888888,
              "#fdca26"
             ],
             [
              1,
              "#f0f921"
             ]
            ],
            "type": "heatmapgl"
           }
          ],
          "histogram": [
           {
            "marker": {
             "pattern": {
              "fillmode": "overlay",
              "size": 10,
              "solidity": 0.2
             }
            },
            "type": "histogram"
           }
          ],
          "histogram2d": [
           {
            "colorbar": {
             "outlinewidth": 0,
             "ticks": ""
            },
            "colorscale": [
             [
              0,
              "#0d0887"
             ],
             [
              0.1111111111111111,
              "#46039f"
             ],
             [
              0.2222222222222222,
              "#7201a8"
             ],
             [
              0.3333333333333333,
              "#9c179e"
             ],
             [
              0.4444444444444444,
              "#bd3786"
             ],
             [
              0.5555555555555556,
              "#d8576b"
             ],
             [
              0.6666666666666666,
              "#ed7953"
             ],
             [
              0.7777777777777778,
              "#fb9f3a"
             ],
             [
              0.8888888888888888,
              "#fdca26"
             ],
             [
              1,
              "#f0f921"
             ]
            ],
            "type": "histogram2d"
           }
          ],
          "histogram2dcontour": [
           {
            "colorbar": {
             "outlinewidth": 0,
             "ticks": ""
            },
            "colorscale": [
             [
              0,
              "#0d0887"
             ],
             [
              0.1111111111111111,
              "#46039f"
             ],
             [
              0.2222222222222222,
              "#7201a8"
             ],
             [
              0.3333333333333333,
              "#9c179e"
             ],
             [
              0.4444444444444444,
              "#bd3786"
             ],
             [
              0.5555555555555556,
              "#d8576b"
             ],
             [
              0.6666666666666666,
              "#ed7953"
             ],
             [
              0.7777777777777778,
              "#fb9f3a"
             ],
             [
              0.8888888888888888,
              "#fdca26"
             ],
             [
              1,
              "#f0f921"
             ]
            ],
            "type": "histogram2dcontour"
           }
          ],
          "mesh3d": [
           {
            "colorbar": {
             "outlinewidth": 0,
             "ticks": ""
            },
            "type": "mesh3d"
           }
          ],
          "parcoords": [
           {
            "line": {
             "colorbar": {
              "outlinewidth": 0,
              "ticks": ""
             }
            },
            "type": "parcoords"
           }
          ],
          "pie": [
           {
            "automargin": true,
            "type": "pie"
           }
          ],
          "scatter": [
           {
            "marker": {
             "colorbar": {
              "outlinewidth": 0,
              "ticks": ""
             }
            },
            "type": "scatter"
           }
          ],
          "scatter3d": [
           {
            "line": {
             "colorbar": {
              "outlinewidth": 0,
              "ticks": ""
             }
            },
            "marker": {
             "colorbar": {
              "outlinewidth": 0,
              "ticks": ""
             }
            },
            "type": "scatter3d"
           }
          ],
          "scattercarpet": [
           {
            "marker": {
             "colorbar": {
              "outlinewidth": 0,
              "ticks": ""
             }
            },
            "type": "scattercarpet"
           }
          ],
          "scattergeo": [
           {
            "marker": {
             "colorbar": {
              "outlinewidth": 0,
              "ticks": ""
             }
            },
            "type": "scattergeo"
           }
          ],
          "scattergl": [
           {
            "marker": {
             "colorbar": {
              "outlinewidth": 0,
              "ticks": ""
             }
            },
            "type": "scattergl"
           }
          ],
          "scattermapbox": [
           {
            "marker": {
             "colorbar": {
              "outlinewidth": 0,
              "ticks": ""
             }
            },
            "type": "scattermapbox"
           }
          ],
          "scatterpolar": [
           {
            "marker": {
             "colorbar": {
              "outlinewidth": 0,
              "ticks": ""
             }
            },
            "type": "scatterpolar"
           }
          ],
          "scatterpolargl": [
           {
            "marker": {
             "colorbar": {
              "outlinewidth": 0,
              "ticks": ""
             }
            },
            "type": "scatterpolargl"
           }
          ],
          "scatterternary": [
           {
            "marker": {
             "colorbar": {
              "outlinewidth": 0,
              "ticks": ""
             }
            },
            "type": "scatterternary"
           }
          ],
          "surface": [
           {
            "colorbar": {
             "outlinewidth": 0,
             "ticks": ""
            },
            "colorscale": [
             [
              0,
              "#0d0887"
             ],
             [
              0.1111111111111111,
              "#46039f"
             ],
             [
              0.2222222222222222,
              "#7201a8"
             ],
             [
              0.3333333333333333,
              "#9c179e"
             ],
             [
              0.4444444444444444,
              "#bd3786"
             ],
             [
              0.5555555555555556,
              "#d8576b"
             ],
             [
              0.6666666666666666,
              "#ed7953"
             ],
             [
              0.7777777777777778,
              "#fb9f3a"
             ],
             [
              0.8888888888888888,
              "#fdca26"
             ],
             [
              1,
              "#f0f921"
             ]
            ],
            "type": "surface"
           }
          ],
          "table": [
           {
            "cells": {
             "fill": {
              "color": "#EBF0F8"
             },
             "line": {
              "color": "white"
             }
            },
            "header": {
             "fill": {
              "color": "#C8D4E3"
             },
             "line": {
              "color": "white"
             }
            },
            "type": "table"
           }
          ]
         },
         "layout": {
          "annotationdefaults": {
           "arrowcolor": "#2a3f5f",
           "arrowhead": 0,
           "arrowwidth": 1
          },
          "autotypenumbers": "strict",
          "coloraxis": {
           "colorbar": {
            "outlinewidth": 0,
            "ticks": ""
           }
          },
          "colorscale": {
           "diverging": [
            [
             0,
             "#8e0152"
            ],
            [
             0.1,
             "#c51b7d"
            ],
            [
             0.2,
             "#de77ae"
            ],
            [
             0.3,
             "#f1b6da"
            ],
            [
             0.4,
             "#fde0ef"
            ],
            [
             0.5,
             "#f7f7f7"
            ],
            [
             0.6,
             "#e6f5d0"
            ],
            [
             0.7,
             "#b8e186"
            ],
            [
             0.8,
             "#7fbc41"
            ],
            [
             0.9,
             "#4d9221"
            ],
            [
             1,
             "#276419"
            ]
           ],
           "sequential": [
            [
             0,
             "#0d0887"
            ],
            [
             0.1111111111111111,
             "#46039f"
            ],
            [
             0.2222222222222222,
             "#7201a8"
            ],
            [
             0.3333333333333333,
             "#9c179e"
            ],
            [
             0.4444444444444444,
             "#bd3786"
            ],
            [
             0.5555555555555556,
             "#d8576b"
            ],
            [
             0.6666666666666666,
             "#ed7953"
            ],
            [
             0.7777777777777778,
             "#fb9f3a"
            ],
            [
             0.8888888888888888,
             "#fdca26"
            ],
            [
             1,
             "#f0f921"
            ]
           ],
           "sequentialminus": [
            [
             0,
             "#0d0887"
            ],
            [
             0.1111111111111111,
             "#46039f"
            ],
            [
             0.2222222222222222,
             "#7201a8"
            ],
            [
             0.3333333333333333,
             "#9c179e"
            ],
            [
             0.4444444444444444,
             "#bd3786"
            ],
            [
             0.5555555555555556,
             "#d8576b"
            ],
            [
             0.6666666666666666,
             "#ed7953"
            ],
            [
             0.7777777777777778,
             "#fb9f3a"
            ],
            [
             0.8888888888888888,
             "#fdca26"
            ],
            [
             1,
             "#f0f921"
            ]
           ]
          },
          "colorway": [
           "#636efa",
           "#EF553B",
           "#00cc96",
           "#ab63fa",
           "#FFA15A",
           "#19d3f3",
           "#FF6692",
           "#B6E880",
           "#FF97FF",
           "#FECB52"
          ],
          "font": {
           "color": "#2a3f5f"
          },
          "geo": {
           "bgcolor": "white",
           "lakecolor": "white",
           "landcolor": "#E5ECF6",
           "showlakes": true,
           "showland": true,
           "subunitcolor": "white"
          },
          "hoverlabel": {
           "align": "left"
          },
          "hovermode": "closest",
          "mapbox": {
           "style": "light"
          },
          "paper_bgcolor": "white",
          "plot_bgcolor": "#E5ECF6",
          "polar": {
           "angularaxis": {
            "gridcolor": "white",
            "linecolor": "white",
            "ticks": ""
           },
           "bgcolor": "#E5ECF6",
           "radialaxis": {
            "gridcolor": "white",
            "linecolor": "white",
            "ticks": ""
           }
          },
          "scene": {
           "xaxis": {
            "backgroundcolor": "#E5ECF6",
            "gridcolor": "white",
            "gridwidth": 2,
            "linecolor": "white",
            "showbackground": true,
            "ticks": "",
            "zerolinecolor": "white"
           },
           "yaxis": {
            "backgroundcolor": "#E5ECF6",
            "gridcolor": "white",
            "gridwidth": 2,
            "linecolor": "white",
            "showbackground": true,
            "ticks": "",
            "zerolinecolor": "white"
           },
           "zaxis": {
            "backgroundcolor": "#E5ECF6",
            "gridcolor": "white",
            "gridwidth": 2,
            "linecolor": "white",
            "showbackground": true,
            "ticks": "",
            "zerolinecolor": "white"
           }
          },
          "shapedefaults": {
           "line": {
            "color": "#2a3f5f"
           }
          },
          "ternary": {
           "aaxis": {
            "gridcolor": "white",
            "linecolor": "white",
            "ticks": ""
           },
           "baxis": {
            "gridcolor": "white",
            "linecolor": "white",
            "ticks": ""
           },
           "bgcolor": "#E5ECF6",
           "caxis": {
            "gridcolor": "white",
            "linecolor": "white",
            "ticks": ""
           }
          },
          "title": {
           "x": 0.05
          },
          "xaxis": {
           "automargin": true,
           "gridcolor": "white",
           "linecolor": "white",
           "ticks": "",
           "title": {
            "standoff": 15
           },
           "zerolinecolor": "white",
           "zerolinewidth": 2
          },
          "yaxis": {
           "automargin": true,
           "gridcolor": "white",
           "linecolor": "white",
           "ticks": "",
           "title": {
            "standoff": 15
           },
           "zerolinecolor": "white",
           "zerolinewidth": 2
          }
         }
        },
        "title": {
         "text": "Deaths per capita"
        }
       }
      },
      "text/html": [
       "<div>                            <div id=\"61939e43-1c41-4358-8d05-b5d120da6e33\" class=\"plotly-graph-div\" style=\"height:525px; width:100%;\"></div>            <script type=\"text/javascript\">                require([\"plotly\"], function(Plotly) {                    window.PLOTLYENV=window.PLOTLYENV || {};                                    if (document.getElementById(\"61939e43-1c41-4358-8d05-b5d120da6e33\")) {                    Plotly.newPlot(                        \"61939e43-1c41-4358-8d05-b5d120da6e33\",                        [{\"orientation\":\"h\",\"type\":\"bar\",\"x\":[0.0001495741790694624,0.00016867718994683948,0.00018274765551810394,0.00012029575183662215,0.00011794162977175439,0.00017064111137284096,0.00017324419923917154,0.00020415901070376527,0.0001347117506083509,0.000120694540033208,0.00011181906109024297,0.00013150255313447502,0.00013235383731035268,0.00017836211832104634,8.542539256850857e-05,0.00011472181514790993,0.00024503474738328144,0.00016798292930231954,0.00016261362250452081,0.00018047454347530552,0.0001925943368598965,0.00017805853942278718,9.538076666211594e-05,0.00011232923699362832,0.00017653372149795232,0.00012313269271497737,6.689800890118148e-05,0.00019533098028196475,0.0002523689815853759,0.0001407969737977169,0.0002623140124117208,0.00011704163328647767,0.00013789517935512173,5.9442101319752885e-05,0.00023714852065646582,0.00020178841147591733,0.00013282223067557407,0.00021387525921219534,0.00023490006286191965,0.00014681123279758752,7.456706715888821e-05,0.00019535164681900091,9.83432025015849e-05,0.00020786853056598153,0.00013245455851140225,0.00011863825078794562,0.00014043078254228773,0.000338132258788203,0.00014853606648982808,0.00018707372077616716],\"y\":[\"Alabama\",\"Alaska\",\"Arizona\",\"Arkansas\",\"California\",\"Colorado\",\"Connecticut\",\"Delaware\",\"Florida\",\"Georgia\",\"Hawaii\",\"Idaho\",\"Illinois\",\"Indiana\",\"Iowa\",\"Kansas\",\"Kentucky\",\"Louisiana\",\"Maine\",\"Maryland\",\"Massachusetts\",\"Michigan\",\"Minnesota\",\"Mississippi\",\"Missouri\",\"Montana\",\"Nebraska\",\"Nevada\",\"New Hampshire\",\"New Jersey\",\"New Mexico\",\"New York\",\"North Carolina\",\"North Dakota\",\"Ohio\",\"Oklahoma\",\"Oregon\",\"Pennsylvania\",\"Rhode Island\",\"South Carolina\",\"South Dakota\",\"Tennessee\",\"Texas\",\"Utah\",\"Vermont\",\"Virginia\",\"Washington\",\"West Virginia\",\"Wisconsin\",\"Wyoming\"]}],                        {\"template\":{\"data\":{\"bar\":[{\"error_x\":{\"color\":\"#2a3f5f\"},\"error_y\":{\"color\":\"#2a3f5f\"},\"marker\":{\"line\":{\"color\":\"#E5ECF6\",\"width\":0.5},\"pattern\":{\"fillmode\":\"overlay\",\"size\":10,\"solidity\":0.2}},\"type\":\"bar\"}],\"barpolar\":[{\"marker\":{\"line\":{\"color\":\"#E5ECF6\",\"width\":0.5},\"pattern\":{\"fillmode\":\"overlay\",\"size\":10,\"solidity\":0.2}},\"type\":\"barpolar\"}],\"carpet\":[{\"aaxis\":{\"endlinecolor\":\"#2a3f5f\",\"gridcolor\":\"white\",\"linecolor\":\"white\",\"minorgridcolor\":\"white\",\"startlinecolor\":\"#2a3f5f\"},\"baxis\":{\"endlinecolor\":\"#2a3f5f\",\"gridcolor\":\"white\",\"linecolor\":\"white\",\"minorgridcolor\":\"white\",\"startlinecolor\":\"#2a3f5f\"},\"type\":\"carpet\"}],\"choropleth\":[{\"colorbar\":{\"outlinewidth\":0,\"ticks\":\"\"},\"type\":\"choropleth\"}],\"contour\":[{\"colorbar\":{\"outlinewidth\":0,\"ticks\":\"\"},\"colorscale\":[[0.0,\"#0d0887\"],[0.1111111111111111,\"#46039f\"],[0.2222222222222222,\"#7201a8\"],[0.3333333333333333,\"#9c179e\"],[0.4444444444444444,\"#bd3786\"],[0.5555555555555556,\"#d8576b\"],[0.6666666666666666,\"#ed7953\"],[0.7777777777777778,\"#fb9f3a\"],[0.8888888888888888,\"#fdca26\"],[1.0,\"#f0f921\"]],\"type\":\"contour\"}],\"contourcarpet\":[{\"colorbar\":{\"outlinewidth\":0,\"ticks\":\"\"},\"type\":\"contourcarpet\"}],\"heatmap\":[{\"colorbar\":{\"outlinewidth\":0,\"ticks\":\"\"},\"colorscale\":[[0.0,\"#0d0887\"],[0.1111111111111111,\"#46039f\"],[0.2222222222222222,\"#7201a8\"],[0.3333333333333333,\"#9c179e\"],[0.4444444444444444,\"#bd3786\"],[0.5555555555555556,\"#d8576b\"],[0.6666666666666666,\"#ed7953\"],[0.7777777777777778,\"#fb9f3a\"],[0.8888888888888888,\"#fdca26\"],[1.0,\"#f0f921\"]],\"type\":\"heatmap\"}],\"heatmapgl\":[{\"colorbar\":{\"outlinewidth\":0,\"ticks\":\"\"},\"colorscale\":[[0.0,\"#0d0887\"],[0.1111111111111111,\"#46039f\"],[0.2222222222222222,\"#7201a8\"],[0.3333333333333333,\"#9c179e\"],[0.4444444444444444,\"#bd3786\"],[0.5555555555555556,\"#d8576b\"],[0.6666666666666666,\"#ed7953\"],[0.7777777777777778,\"#fb9f3a\"],[0.8888888888888888,\"#fdca26\"],[1.0,\"#f0f921\"]],\"type\":\"heatmapgl\"}],\"histogram\":[{\"marker\":{\"pattern\":{\"fillmode\":\"overlay\",\"size\":10,\"solidity\":0.2}},\"type\":\"histogram\"}],\"histogram2d\":[{\"colorbar\":{\"outlinewidth\":0,\"ticks\":\"\"},\"colorscale\":[[0.0,\"#0d0887\"],[0.1111111111111111,\"#46039f\"],[0.2222222222222222,\"#7201a8\"],[0.3333333333333333,\"#9c179e\"],[0.4444444444444444,\"#bd3786\"],[0.5555555555555556,\"#d8576b\"],[0.6666666666666666,\"#ed7953\"],[0.7777777777777778,\"#fb9f3a\"],[0.8888888888888888,\"#fdca26\"],[1.0,\"#f0f921\"]],\"type\":\"histogram2d\"}],\"histogram2dcontour\":[{\"colorbar\":{\"outlinewidth\":0,\"ticks\":\"\"},\"colorscale\":[[0.0,\"#0d0887\"],[0.1111111111111111,\"#46039f\"],[0.2222222222222222,\"#7201a8\"],[0.3333333333333333,\"#9c179e\"],[0.4444444444444444,\"#bd3786\"],[0.5555555555555556,\"#d8576b\"],[0.6666666666666666,\"#ed7953\"],[0.7777777777777778,\"#fb9f3a\"],[0.8888888888888888,\"#fdca26\"],[1.0,\"#f0f921\"]],\"type\":\"histogram2dcontour\"}],\"mesh3d\":[{\"colorbar\":{\"outlinewidth\":0,\"ticks\":\"\"},\"type\":\"mesh3d\"}],\"parcoords\":[{\"line\":{\"colorbar\":{\"outlinewidth\":0,\"ticks\":\"\"}},\"type\":\"parcoords\"}],\"pie\":[{\"automargin\":true,\"type\":\"pie\"}],\"scatter\":[{\"marker\":{\"colorbar\":{\"outlinewidth\":0,\"ticks\":\"\"}},\"type\":\"scatter\"}],\"scatter3d\":[{\"line\":{\"colorbar\":{\"outlinewidth\":0,\"ticks\":\"\"}},\"marker\":{\"colorbar\":{\"outlinewidth\":0,\"ticks\":\"\"}},\"type\":\"scatter3d\"}],\"scattercarpet\":[{\"marker\":{\"colorbar\":{\"outlinewidth\":0,\"ticks\":\"\"}},\"type\":\"scattercarpet\"}],\"scattergeo\":[{\"marker\":{\"colorbar\":{\"outlinewidth\":0,\"ticks\":\"\"}},\"type\":\"scattergeo\"}],\"scattergl\":[{\"marker\":{\"colorbar\":{\"outlinewidth\":0,\"ticks\":\"\"}},\"type\":\"scattergl\"}],\"scattermapbox\":[{\"marker\":{\"colorbar\":{\"outlinewidth\":0,\"ticks\":\"\"}},\"type\":\"scattermapbox\"}],\"scatterpolar\":[{\"marker\":{\"colorbar\":{\"outlinewidth\":0,\"ticks\":\"\"}},\"type\":\"scatterpolar\"}],\"scatterpolargl\":[{\"marker\":{\"colorbar\":{\"outlinewidth\":0,\"ticks\":\"\"}},\"type\":\"scatterpolargl\"}],\"scatterternary\":[{\"marker\":{\"colorbar\":{\"outlinewidth\":0,\"ticks\":\"\"}},\"type\":\"scatterternary\"}],\"surface\":[{\"colorbar\":{\"outlinewidth\":0,\"ticks\":\"\"},\"colorscale\":[[0.0,\"#0d0887\"],[0.1111111111111111,\"#46039f\"],[0.2222222222222222,\"#7201a8\"],[0.3333333333333333,\"#9c179e\"],[0.4444444444444444,\"#bd3786\"],[0.5555555555555556,\"#d8576b\"],[0.6666666666666666,\"#ed7953\"],[0.7777777777777778,\"#fb9f3a\"],[0.8888888888888888,\"#fdca26\"],[1.0,\"#f0f921\"]],\"type\":\"surface\"}],\"table\":[{\"cells\":{\"fill\":{\"color\":\"#EBF0F8\"},\"line\":{\"color\":\"white\"}},\"header\":{\"fill\":{\"color\":\"#C8D4E3\"},\"line\":{\"color\":\"white\"}},\"type\":\"table\"}]},\"layout\":{\"annotationdefaults\":{\"arrowcolor\":\"#2a3f5f\",\"arrowhead\":0,\"arrowwidth\":1},\"autotypenumbers\":\"strict\",\"coloraxis\":{\"colorbar\":{\"outlinewidth\":0,\"ticks\":\"\"}},\"colorscale\":{\"diverging\":[[0,\"#8e0152\"],[0.1,\"#c51b7d\"],[0.2,\"#de77ae\"],[0.3,\"#f1b6da\"],[0.4,\"#fde0ef\"],[0.5,\"#f7f7f7\"],[0.6,\"#e6f5d0\"],[0.7,\"#b8e186\"],[0.8,\"#7fbc41\"],[0.9,\"#4d9221\"],[1,\"#276419\"]],\"sequential\":[[0.0,\"#0d0887\"],[0.1111111111111111,\"#46039f\"],[0.2222222222222222,\"#7201a8\"],[0.3333333333333333,\"#9c179e\"],[0.4444444444444444,\"#bd3786\"],[0.5555555555555556,\"#d8576b\"],[0.6666666666666666,\"#ed7953\"],[0.7777777777777778,\"#fb9f3a\"],[0.8888888888888888,\"#fdca26\"],[1.0,\"#f0f921\"]],\"sequentialminus\":[[0.0,\"#0d0887\"],[0.1111111111111111,\"#46039f\"],[0.2222222222222222,\"#7201a8\"],[0.3333333333333333,\"#9c179e\"],[0.4444444444444444,\"#bd3786\"],[0.5555555555555556,\"#d8576b\"],[0.6666666666666666,\"#ed7953\"],[0.7777777777777778,\"#fb9f3a\"],[0.8888888888888888,\"#fdca26\"],[1.0,\"#f0f921\"]]},\"colorway\":[\"#636efa\",\"#EF553B\",\"#00cc96\",\"#ab63fa\",\"#FFA15A\",\"#19d3f3\",\"#FF6692\",\"#B6E880\",\"#FF97FF\",\"#FECB52\"],\"font\":{\"color\":\"#2a3f5f\"},\"geo\":{\"bgcolor\":\"white\",\"lakecolor\":\"white\",\"landcolor\":\"#E5ECF6\",\"showlakes\":true,\"showland\":true,\"subunitcolor\":\"white\"},\"hoverlabel\":{\"align\":\"left\"},\"hovermode\":\"closest\",\"mapbox\":{\"style\":\"light\"},\"paper_bgcolor\":\"white\",\"plot_bgcolor\":\"#E5ECF6\",\"polar\":{\"angularaxis\":{\"gridcolor\":\"white\",\"linecolor\":\"white\",\"ticks\":\"\"},\"bgcolor\":\"#E5ECF6\",\"radialaxis\":{\"gridcolor\":\"white\",\"linecolor\":\"white\",\"ticks\":\"\"}},\"scene\":{\"xaxis\":{\"backgroundcolor\":\"#E5ECF6\",\"gridcolor\":\"white\",\"gridwidth\":2,\"linecolor\":\"white\",\"showbackground\":true,\"ticks\":\"\",\"zerolinecolor\":\"white\"},\"yaxis\":{\"backgroundcolor\":\"#E5ECF6\",\"gridcolor\":\"white\",\"gridwidth\":2,\"linecolor\":\"white\",\"showbackground\":true,\"ticks\":\"\",\"zerolinecolor\":\"white\"},\"zaxis\":{\"backgroundcolor\":\"#E5ECF6\",\"gridcolor\":\"white\",\"gridwidth\":2,\"linecolor\":\"white\",\"showbackground\":true,\"ticks\":\"\",\"zerolinecolor\":\"white\"}},\"shapedefaults\":{\"line\":{\"color\":\"#2a3f5f\"}},\"ternary\":{\"aaxis\":{\"gridcolor\":\"white\",\"linecolor\":\"white\",\"ticks\":\"\"},\"baxis\":{\"gridcolor\":\"white\",\"linecolor\":\"white\",\"ticks\":\"\"},\"bgcolor\":\"#E5ECF6\",\"caxis\":{\"gridcolor\":\"white\",\"linecolor\":\"white\",\"ticks\":\"\"}},\"title\":{\"x\":0.05},\"xaxis\":{\"automargin\":true,\"gridcolor\":\"white\",\"linecolor\":\"white\",\"ticks\":\"\",\"title\":{\"standoff\":15},\"zerolinecolor\":\"white\",\"zerolinewidth\":2},\"yaxis\":{\"automargin\":true,\"gridcolor\":\"white\",\"linecolor\":\"white\",\"ticks\":\"\",\"title\":{\"standoff\":15},\"zerolinecolor\":\"white\",\"zerolinewidth\":2}}},\"title\":{\"text\":\"Deaths per capita\"}},                        {\"responsive\": true}                    ).then(function(){\n",
       "                            \n",
       "var gd = document.getElementById('61939e43-1c41-4358-8d05-b5d120da6e33');\n",
       "var x = new MutationObserver(function (mutations, observer) {{\n",
       "        var display = window.getComputedStyle(gd).display;\n",
       "        if (!display || display === 'none') {{\n",
       "            console.log([gd, 'removed!']);\n",
       "            Plotly.purge(gd);\n",
       "            observer.disconnect();\n",
       "        }}\n",
       "}});\n",
       "\n",
       "// Listen for the removal of the full notebook cells\n",
       "var notebookContainer = gd.closest('#notebook-container');\n",
       "if (notebookContainer) {{\n",
       "    x.observe(notebookContainer, {childList: true});\n",
       "}}\n",
       "\n",
       "// Listen for the clearing of the current output cell\n",
       "var outputEl = gd.closest('.output');\n",
       "if (outputEl) {{\n",
       "    x.observe(outputEl, {childList: true});\n",
       "}}\n",
       "\n",
       "                        })                };                });            </script>        </div>"
      ]
     },
     "metadata": {},
     "output_type": "display_data"
    },
    {
     "data": {
      "application/vnd.plotly.v1+json": {
       "config": {
        "plotlyServerURL": "https://plot.ly"
       },
       "data": [
        {
         "orientation": "h",
         "type": "bar",
         "x": [
          723,
          124,
          1211,
          356,
          4521,
          899,
          623,
          189,
          2634,
          1206,
          157,
          212,
          1705,
          1172,
          264,
          332,
          1077,
          777,
          216,
          1070,
          1289,
          1762,
          517,
          336,
          1067,
          125,
          125,
          545,
          334,
          1253,
          547,
          2300,
          1358,
          43,
          2744,
          777,
          522,
          2732,
          247,
          701,
          63,
          1269,
          2601,
          603,
          83,
          980,
          979,
          627,
          853,
          109
         ],
         "y": [
          "Alabama",
          "Alaska",
          "Arizona",
          "Arkansas",
          "California",
          "Colorado",
          "Connecticut",
          "Delaware",
          "Florida",
          "Georgia",
          "Hawaii",
          "Idaho",
          "Illinois",
          "Indiana",
          "Iowa",
          "Kansas",
          "Kentucky",
          "Louisiana",
          "Maine",
          "Maryland",
          "Massachusetts",
          "Michigan",
          "Minnesota",
          "Mississippi",
          "Missouri",
          "Montana",
          "Nebraska",
          "Nevada",
          "New Hampshire",
          "New Jersey",
          "New Mexico",
          "New York",
          "North Carolina",
          "North Dakota",
          "Ohio",
          "Oklahoma",
          "Oregon",
          "Pennsylvania",
          "Rhode Island",
          "South Carolina",
          "South Dakota",
          "Tennessee",
          "Texas",
          "Utah",
          "Vermont",
          "Virginia",
          "Washington",
          "West Virginia",
          "Wisconsin",
          "Wyoming"
         ]
        }
       ],
       "layout": {
        "template": {
         "data": {
          "bar": [
           {
            "error_x": {
             "color": "#2a3f5f"
            },
            "error_y": {
             "color": "#2a3f5f"
            },
            "marker": {
             "line": {
              "color": "#E5ECF6",
              "width": 0.5
             },
             "pattern": {
              "fillmode": "overlay",
              "size": 10,
              "solidity": 0.2
             }
            },
            "type": "bar"
           }
          ],
          "barpolar": [
           {
            "marker": {
             "line": {
              "color": "#E5ECF6",
              "width": 0.5
             },
             "pattern": {
              "fillmode": "overlay",
              "size": 10,
              "solidity": 0.2
             }
            },
            "type": "barpolar"
           }
          ],
          "carpet": [
           {
            "aaxis": {
             "endlinecolor": "#2a3f5f",
             "gridcolor": "white",
             "linecolor": "white",
             "minorgridcolor": "white",
             "startlinecolor": "#2a3f5f"
            },
            "baxis": {
             "endlinecolor": "#2a3f5f",
             "gridcolor": "white",
             "linecolor": "white",
             "minorgridcolor": "white",
             "startlinecolor": "#2a3f5f"
            },
            "type": "carpet"
           }
          ],
          "choropleth": [
           {
            "colorbar": {
             "outlinewidth": 0,
             "ticks": ""
            },
            "type": "choropleth"
           }
          ],
          "contour": [
           {
            "colorbar": {
             "outlinewidth": 0,
             "ticks": ""
            },
            "colorscale": [
             [
              0,
              "#0d0887"
             ],
             [
              0.1111111111111111,
              "#46039f"
             ],
             [
              0.2222222222222222,
              "#7201a8"
             ],
             [
              0.3333333333333333,
              "#9c179e"
             ],
             [
              0.4444444444444444,
              "#bd3786"
             ],
             [
              0.5555555555555556,
              "#d8576b"
             ],
             [
              0.6666666666666666,
              "#ed7953"
             ],
             [
              0.7777777777777778,
              "#fb9f3a"
             ],
             [
              0.8888888888888888,
              "#fdca26"
             ],
             [
              1,
              "#f0f921"
             ]
            ],
            "type": "contour"
           }
          ],
          "contourcarpet": [
           {
            "colorbar": {
             "outlinewidth": 0,
             "ticks": ""
            },
            "type": "contourcarpet"
           }
          ],
          "heatmap": [
           {
            "colorbar": {
             "outlinewidth": 0,
             "ticks": ""
            },
            "colorscale": [
             [
              0,
              "#0d0887"
             ],
             [
              0.1111111111111111,
              "#46039f"
             ],
             [
              0.2222222222222222,
              "#7201a8"
             ],
             [
              0.3333333333333333,
              "#9c179e"
             ],
             [
              0.4444444444444444,
              "#bd3786"
             ],
             [
              0.5555555555555556,
              "#d8576b"
             ],
             [
              0.6666666666666666,
              "#ed7953"
             ],
             [
              0.7777777777777778,
              "#fb9f3a"
             ],
             [
              0.8888888888888888,
              "#fdca26"
             ],
             [
              1,
              "#f0f921"
             ]
            ],
            "type": "heatmap"
           }
          ],
          "heatmapgl": [
           {
            "colorbar": {
             "outlinewidth": 0,
             "ticks": ""
            },
            "colorscale": [
             [
              0,
              "#0d0887"
             ],
             [
              0.1111111111111111,
              "#46039f"
             ],
             [
              0.2222222222222222,
              "#7201a8"
             ],
             [
              0.3333333333333333,
              "#9c179e"
             ],
             [
              0.4444444444444444,
              "#bd3786"
             ],
             [
              0.5555555555555556,
              "#d8576b"
             ],
             [
              0.6666666666666666,
              "#ed7953"
             ],
             [
              0.7777777777777778,
              "#fb9f3a"
             ],
             [
              0.8888888888888888,
              "#fdca26"
             ],
             [
              1,
              "#f0f921"
             ]
            ],
            "type": "heatmapgl"
           }
          ],
          "histogram": [
           {
            "marker": {
             "pattern": {
              "fillmode": "overlay",
              "size": 10,
              "solidity": 0.2
             }
            },
            "type": "histogram"
           }
          ],
          "histogram2d": [
           {
            "colorbar": {
             "outlinewidth": 0,
             "ticks": ""
            },
            "colorscale": [
             [
              0,
              "#0d0887"
             ],
             [
              0.1111111111111111,
              "#46039f"
             ],
             [
              0.2222222222222222,
              "#7201a8"
             ],
             [
              0.3333333333333333,
              "#9c179e"
             ],
             [
              0.4444444444444444,
              "#bd3786"
             ],
             [
              0.5555555555555556,
              "#d8576b"
             ],
             [
              0.6666666666666666,
              "#ed7953"
             ],
             [
              0.7777777777777778,
              "#fb9f3a"
             ],
             [
              0.8888888888888888,
              "#fdca26"
             ],
             [
              1,
              "#f0f921"
             ]
            ],
            "type": "histogram2d"
           }
          ],
          "histogram2dcontour": [
           {
            "colorbar": {
             "outlinewidth": 0,
             "ticks": ""
            },
            "colorscale": [
             [
              0,
              "#0d0887"
             ],
             [
              0.1111111111111111,
              "#46039f"
             ],
             [
              0.2222222222222222,
              "#7201a8"
             ],
             [
              0.3333333333333333,
              "#9c179e"
             ],
             [
              0.4444444444444444,
              "#bd3786"
             ],
             [
              0.5555555555555556,
              "#d8576b"
             ],
             [
              0.6666666666666666,
              "#ed7953"
             ],
             [
              0.7777777777777778,
              "#fb9f3a"
             ],
             [
              0.8888888888888888,
              "#fdca26"
             ],
             [
              1,
              "#f0f921"
             ]
            ],
            "type": "histogram2dcontour"
           }
          ],
          "mesh3d": [
           {
            "colorbar": {
             "outlinewidth": 0,
             "ticks": ""
            },
            "type": "mesh3d"
           }
          ],
          "parcoords": [
           {
            "line": {
             "colorbar": {
              "outlinewidth": 0,
              "ticks": ""
             }
            },
            "type": "parcoords"
           }
          ],
          "pie": [
           {
            "automargin": true,
            "type": "pie"
           }
          ],
          "scatter": [
           {
            "marker": {
             "colorbar": {
              "outlinewidth": 0,
              "ticks": ""
             }
            },
            "type": "scatter"
           }
          ],
          "scatter3d": [
           {
            "line": {
             "colorbar": {
              "outlinewidth": 0,
              "ticks": ""
             }
            },
            "marker": {
             "colorbar": {
              "outlinewidth": 0,
              "ticks": ""
             }
            },
            "type": "scatter3d"
           }
          ],
          "scattercarpet": [
           {
            "marker": {
             "colorbar": {
              "outlinewidth": 0,
              "ticks": ""
             }
            },
            "type": "scattercarpet"
           }
          ],
          "scattergeo": [
           {
            "marker": {
             "colorbar": {
              "outlinewidth": 0,
              "ticks": ""
             }
            },
            "type": "scattergeo"
           }
          ],
          "scattergl": [
           {
            "marker": {
             "colorbar": {
              "outlinewidth": 0,
              "ticks": ""
             }
            },
            "type": "scattergl"
           }
          ],
          "scattermapbox": [
           {
            "marker": {
             "colorbar": {
              "outlinewidth": 0,
              "ticks": ""
             }
            },
            "type": "scattermapbox"
           }
          ],
          "scatterpolar": [
           {
            "marker": {
             "colorbar": {
              "outlinewidth": 0,
              "ticks": ""
             }
            },
            "type": "scatterpolar"
           }
          ],
          "scatterpolargl": [
           {
            "marker": {
             "colorbar": {
              "outlinewidth": 0,
              "ticks": ""
             }
            },
            "type": "scatterpolargl"
           }
          ],
          "scatterternary": [
           {
            "marker": {
             "colorbar": {
              "outlinewidth": 0,
              "ticks": ""
             }
            },
            "type": "scatterternary"
           }
          ],
          "surface": [
           {
            "colorbar": {
             "outlinewidth": 0,
             "ticks": ""
            },
            "colorscale": [
             [
              0,
              "#0d0887"
             ],
             [
              0.1111111111111111,
              "#46039f"
             ],
             [
              0.2222222222222222,
              "#7201a8"
             ],
             [
              0.3333333333333333,
              "#9c179e"
             ],
             [
              0.4444444444444444,
              "#bd3786"
             ],
             [
              0.5555555555555556,
              "#d8576b"
             ],
             [
              0.6666666666666666,
              "#ed7953"
             ],
             [
              0.7777777777777778,
              "#fb9f3a"
             ],
             [
              0.8888888888888888,
              "#fdca26"
             ],
             [
              1,
              "#f0f921"
             ]
            ],
            "type": "surface"
           }
          ],
          "table": [
           {
            "cells": {
             "fill": {
              "color": "#EBF0F8"
             },
             "line": {
              "color": "white"
             }
            },
            "header": {
             "fill": {
              "color": "#C8D4E3"
             },
             "line": {
              "color": "white"
             }
            },
            "type": "table"
           }
          ]
         },
         "layout": {
          "annotationdefaults": {
           "arrowcolor": "#2a3f5f",
           "arrowhead": 0,
           "arrowwidth": 1
          },
          "autotypenumbers": "strict",
          "coloraxis": {
           "colorbar": {
            "outlinewidth": 0,
            "ticks": ""
           }
          },
          "colorscale": {
           "diverging": [
            [
             0,
             "#8e0152"
            ],
            [
             0.1,
             "#c51b7d"
            ],
            [
             0.2,
             "#de77ae"
            ],
            [
             0.3,
             "#f1b6da"
            ],
            [
             0.4,
             "#fde0ef"
            ],
            [
             0.5,
             "#f7f7f7"
            ],
            [
             0.6,
             "#e6f5d0"
            ],
            [
             0.7,
             "#b8e186"
            ],
            [
             0.8,
             "#7fbc41"
            ],
            [
             0.9,
             "#4d9221"
            ],
            [
             1,
             "#276419"
            ]
           ],
           "sequential": [
            [
             0,
             "#0d0887"
            ],
            [
             0.1111111111111111,
             "#46039f"
            ],
            [
             0.2222222222222222,
             "#7201a8"
            ],
            [
             0.3333333333333333,
             "#9c179e"
            ],
            [
             0.4444444444444444,
             "#bd3786"
            ],
            [
             0.5555555555555556,
             "#d8576b"
            ],
            [
             0.6666666666666666,
             "#ed7953"
            ],
            [
             0.7777777777777778,
             "#fb9f3a"
            ],
            [
             0.8888888888888888,
             "#fdca26"
            ],
            [
             1,
             "#f0f921"
            ]
           ],
           "sequentialminus": [
            [
             0,
             "#0d0887"
            ],
            [
             0.1111111111111111,
             "#46039f"
            ],
            [
             0.2222222222222222,
             "#7201a8"
            ],
            [
             0.3333333333333333,
             "#9c179e"
            ],
            [
             0.4444444444444444,
             "#bd3786"
            ],
            [
             0.5555555555555556,
             "#d8576b"
            ],
            [
             0.6666666666666666,
             "#ed7953"
            ],
            [
             0.7777777777777778,
             "#fb9f3a"
            ],
            [
             0.8888888888888888,
             "#fdca26"
            ],
            [
             1,
             "#f0f921"
            ]
           ]
          },
          "colorway": [
           "#636efa",
           "#EF553B",
           "#00cc96",
           "#ab63fa",
           "#FFA15A",
           "#19d3f3",
           "#FF6692",
           "#B6E880",
           "#FF97FF",
           "#FECB52"
          ],
          "font": {
           "color": "#2a3f5f"
          },
          "geo": {
           "bgcolor": "white",
           "lakecolor": "white",
           "landcolor": "#E5ECF6",
           "showlakes": true,
           "showland": true,
           "subunitcolor": "white"
          },
          "hoverlabel": {
           "align": "left"
          },
          "hovermode": "closest",
          "mapbox": {
           "style": "light"
          },
          "paper_bgcolor": "white",
          "plot_bgcolor": "#E5ECF6",
          "polar": {
           "angularaxis": {
            "gridcolor": "white",
            "linecolor": "white",
            "ticks": ""
           },
           "bgcolor": "#E5ECF6",
           "radialaxis": {
            "gridcolor": "white",
            "linecolor": "white",
            "ticks": ""
           }
          },
          "scene": {
           "xaxis": {
            "backgroundcolor": "#E5ECF6",
            "gridcolor": "white",
            "gridwidth": 2,
            "linecolor": "white",
            "showbackground": true,
            "ticks": "",
            "zerolinecolor": "white"
           },
           "yaxis": {
            "backgroundcolor": "#E5ECF6",
            "gridcolor": "white",
            "gridwidth": 2,
            "linecolor": "white",
            "showbackground": true,
            "ticks": "",
            "zerolinecolor": "white"
           },
           "zaxis": {
            "backgroundcolor": "#E5ECF6",
            "gridcolor": "white",
            "gridwidth": 2,
            "linecolor": "white",
            "showbackground": true,
            "ticks": "",
            "zerolinecolor": "white"
           }
          },
          "shapedefaults": {
           "line": {
            "color": "#2a3f5f"
           }
          },
          "ternary": {
           "aaxis": {
            "gridcolor": "white",
            "linecolor": "white",
            "ticks": ""
           },
           "baxis": {
            "gridcolor": "white",
            "linecolor": "white",
            "ticks": ""
           },
           "bgcolor": "#E5ECF6",
           "caxis": {
            "gridcolor": "white",
            "linecolor": "white",
            "ticks": ""
           }
          },
          "title": {
           "x": 0.05
          },
          "xaxis": {
           "automargin": true,
           "gridcolor": "white",
           "linecolor": "white",
           "ticks": "",
           "title": {
            "standoff": 15
           },
           "zerolinecolor": "white",
           "zerolinewidth": 2
          },
          "yaxis": {
           "automargin": true,
           "gridcolor": "white",
           "linecolor": "white",
           "ticks": "",
           "title": {
            "standoff": 15
           },
           "zerolinecolor": "white",
           "zerolinewidth": 2
          }
         }
        },
        "title": {
         "text": "Deaths"
        }
       }
      },
      "text/html": [
       "<div>                            <div id=\"04360031-e155-4e47-ac1c-80a52d48f6a6\" class=\"plotly-graph-div\" style=\"height:525px; width:100%;\"></div>            <script type=\"text/javascript\">                require([\"plotly\"], function(Plotly) {                    window.PLOTLYENV=window.PLOTLYENV || {};                                    if (document.getElementById(\"04360031-e155-4e47-ac1c-80a52d48f6a6\")) {                    Plotly.newPlot(                        \"04360031-e155-4e47-ac1c-80a52d48f6a6\",                        [{\"orientation\":\"h\",\"type\":\"bar\",\"x\":[723,124,1211,356,4521,899,623,189,2634,1206,157,212,1705,1172,264,332,1077,777,216,1070,1289,1762,517,336,1067,125,125,545,334,1253,547,2300,1358,43,2744,777,522,2732,247,701,63,1269,2601,603,83,980,979,627,853,109],\"y\":[\"Alabama\",\"Alaska\",\"Arizona\",\"Arkansas\",\"California\",\"Colorado\",\"Connecticut\",\"Delaware\",\"Florida\",\"Georgia\",\"Hawaii\",\"Idaho\",\"Illinois\",\"Indiana\",\"Iowa\",\"Kansas\",\"Kentucky\",\"Louisiana\",\"Maine\",\"Maryland\",\"Massachusetts\",\"Michigan\",\"Minnesota\",\"Mississippi\",\"Missouri\",\"Montana\",\"Nebraska\",\"Nevada\",\"New Hampshire\",\"New Jersey\",\"New Mexico\",\"New York\",\"North Carolina\",\"North Dakota\",\"Ohio\",\"Oklahoma\",\"Oregon\",\"Pennsylvania\",\"Rhode Island\",\"South Carolina\",\"South Dakota\",\"Tennessee\",\"Texas\",\"Utah\",\"Vermont\",\"Virginia\",\"Washington\",\"West Virginia\",\"Wisconsin\",\"Wyoming\"]}],                        {\"template\":{\"data\":{\"bar\":[{\"error_x\":{\"color\":\"#2a3f5f\"},\"error_y\":{\"color\":\"#2a3f5f\"},\"marker\":{\"line\":{\"color\":\"#E5ECF6\",\"width\":0.5},\"pattern\":{\"fillmode\":\"overlay\",\"size\":10,\"solidity\":0.2}},\"type\":\"bar\"}],\"barpolar\":[{\"marker\":{\"line\":{\"color\":\"#E5ECF6\",\"width\":0.5},\"pattern\":{\"fillmode\":\"overlay\",\"size\":10,\"solidity\":0.2}},\"type\":\"barpolar\"}],\"carpet\":[{\"aaxis\":{\"endlinecolor\":\"#2a3f5f\",\"gridcolor\":\"white\",\"linecolor\":\"white\",\"minorgridcolor\":\"white\",\"startlinecolor\":\"#2a3f5f\"},\"baxis\":{\"endlinecolor\":\"#2a3f5f\",\"gridcolor\":\"white\",\"linecolor\":\"white\",\"minorgridcolor\":\"white\",\"startlinecolor\":\"#2a3f5f\"},\"type\":\"carpet\"}],\"choropleth\":[{\"colorbar\":{\"outlinewidth\":0,\"ticks\":\"\"},\"type\":\"choropleth\"}],\"contour\":[{\"colorbar\":{\"outlinewidth\":0,\"ticks\":\"\"},\"colorscale\":[[0.0,\"#0d0887\"],[0.1111111111111111,\"#46039f\"],[0.2222222222222222,\"#7201a8\"],[0.3333333333333333,\"#9c179e\"],[0.4444444444444444,\"#bd3786\"],[0.5555555555555556,\"#d8576b\"],[0.6666666666666666,\"#ed7953\"],[0.7777777777777778,\"#fb9f3a\"],[0.8888888888888888,\"#fdca26\"],[1.0,\"#f0f921\"]],\"type\":\"contour\"}],\"contourcarpet\":[{\"colorbar\":{\"outlinewidth\":0,\"ticks\":\"\"},\"type\":\"contourcarpet\"}],\"heatmap\":[{\"colorbar\":{\"outlinewidth\":0,\"ticks\":\"\"},\"colorscale\":[[0.0,\"#0d0887\"],[0.1111111111111111,\"#46039f\"],[0.2222222222222222,\"#7201a8\"],[0.3333333333333333,\"#9c179e\"],[0.4444444444444444,\"#bd3786\"],[0.5555555555555556,\"#d8576b\"],[0.6666666666666666,\"#ed7953\"],[0.7777777777777778,\"#fb9f3a\"],[0.8888888888888888,\"#fdca26\"],[1.0,\"#f0f921\"]],\"type\":\"heatmap\"}],\"heatmapgl\":[{\"colorbar\":{\"outlinewidth\":0,\"ticks\":\"\"},\"colorscale\":[[0.0,\"#0d0887\"],[0.1111111111111111,\"#46039f\"],[0.2222222222222222,\"#7201a8\"],[0.3333333333333333,\"#9c179e\"],[0.4444444444444444,\"#bd3786\"],[0.5555555555555556,\"#d8576b\"],[0.6666666666666666,\"#ed7953\"],[0.7777777777777778,\"#fb9f3a\"],[0.8888888888888888,\"#fdca26\"],[1.0,\"#f0f921\"]],\"type\":\"heatmapgl\"}],\"histogram\":[{\"marker\":{\"pattern\":{\"fillmode\":\"overlay\",\"size\":10,\"solidity\":0.2}},\"type\":\"histogram\"}],\"histogram2d\":[{\"colorbar\":{\"outlinewidth\":0,\"ticks\":\"\"},\"colorscale\":[[0.0,\"#0d0887\"],[0.1111111111111111,\"#46039f\"],[0.2222222222222222,\"#7201a8\"],[0.3333333333333333,\"#9c179e\"],[0.4444444444444444,\"#bd3786\"],[0.5555555555555556,\"#d8576b\"],[0.6666666666666666,\"#ed7953\"],[0.7777777777777778,\"#fb9f3a\"],[0.8888888888888888,\"#fdca26\"],[1.0,\"#f0f921\"]],\"type\":\"histogram2d\"}],\"histogram2dcontour\":[{\"colorbar\":{\"outlinewidth\":0,\"ticks\":\"\"},\"colorscale\":[[0.0,\"#0d0887\"],[0.1111111111111111,\"#46039f\"],[0.2222222222222222,\"#7201a8\"],[0.3333333333333333,\"#9c179e\"],[0.4444444444444444,\"#bd3786\"],[0.5555555555555556,\"#d8576b\"],[0.6666666666666666,\"#ed7953\"],[0.7777777777777778,\"#fb9f3a\"],[0.8888888888888888,\"#fdca26\"],[1.0,\"#f0f921\"]],\"type\":\"histogram2dcontour\"}],\"mesh3d\":[{\"colorbar\":{\"outlinewidth\":0,\"ticks\":\"\"},\"type\":\"mesh3d\"}],\"parcoords\":[{\"line\":{\"colorbar\":{\"outlinewidth\":0,\"ticks\":\"\"}},\"type\":\"parcoords\"}],\"pie\":[{\"automargin\":true,\"type\":\"pie\"}],\"scatter\":[{\"marker\":{\"colorbar\":{\"outlinewidth\":0,\"ticks\":\"\"}},\"type\":\"scatter\"}],\"scatter3d\":[{\"line\":{\"colorbar\":{\"outlinewidth\":0,\"ticks\":\"\"}},\"marker\":{\"colorbar\":{\"outlinewidth\":0,\"ticks\":\"\"}},\"type\":\"scatter3d\"}],\"scattercarpet\":[{\"marker\":{\"colorbar\":{\"outlinewidth\":0,\"ticks\":\"\"}},\"type\":\"scattercarpet\"}],\"scattergeo\":[{\"marker\":{\"colorbar\":{\"outlinewidth\":0,\"ticks\":\"\"}},\"type\":\"scattergeo\"}],\"scattergl\":[{\"marker\":{\"colorbar\":{\"outlinewidth\":0,\"ticks\":\"\"}},\"type\":\"scattergl\"}],\"scattermapbox\":[{\"marker\":{\"colorbar\":{\"outlinewidth\":0,\"ticks\":\"\"}},\"type\":\"scattermapbox\"}],\"scatterpolar\":[{\"marker\":{\"colorbar\":{\"outlinewidth\":0,\"ticks\":\"\"}},\"type\":\"scatterpolar\"}],\"scatterpolargl\":[{\"marker\":{\"colorbar\":{\"outlinewidth\":0,\"ticks\":\"\"}},\"type\":\"scatterpolargl\"}],\"scatterternary\":[{\"marker\":{\"colorbar\":{\"outlinewidth\":0,\"ticks\":\"\"}},\"type\":\"scatterternary\"}],\"surface\":[{\"colorbar\":{\"outlinewidth\":0,\"ticks\":\"\"},\"colorscale\":[[0.0,\"#0d0887\"],[0.1111111111111111,\"#46039f\"],[0.2222222222222222,\"#7201a8\"],[0.3333333333333333,\"#9c179e\"],[0.4444444444444444,\"#bd3786\"],[0.5555555555555556,\"#d8576b\"],[0.6666666666666666,\"#ed7953\"],[0.7777777777777778,\"#fb9f3a\"],[0.8888888888888888,\"#fdca26\"],[1.0,\"#f0f921\"]],\"type\":\"surface\"}],\"table\":[{\"cells\":{\"fill\":{\"color\":\"#EBF0F8\"},\"line\":{\"color\":\"white\"}},\"header\":{\"fill\":{\"color\":\"#C8D4E3\"},\"line\":{\"color\":\"white\"}},\"type\":\"table\"}]},\"layout\":{\"annotationdefaults\":{\"arrowcolor\":\"#2a3f5f\",\"arrowhead\":0,\"arrowwidth\":1},\"autotypenumbers\":\"strict\",\"coloraxis\":{\"colorbar\":{\"outlinewidth\":0,\"ticks\":\"\"}},\"colorscale\":{\"diverging\":[[0,\"#8e0152\"],[0.1,\"#c51b7d\"],[0.2,\"#de77ae\"],[0.3,\"#f1b6da\"],[0.4,\"#fde0ef\"],[0.5,\"#f7f7f7\"],[0.6,\"#e6f5d0\"],[0.7,\"#b8e186\"],[0.8,\"#7fbc41\"],[0.9,\"#4d9221\"],[1,\"#276419\"]],\"sequential\":[[0.0,\"#0d0887\"],[0.1111111111111111,\"#46039f\"],[0.2222222222222222,\"#7201a8\"],[0.3333333333333333,\"#9c179e\"],[0.4444444444444444,\"#bd3786\"],[0.5555555555555556,\"#d8576b\"],[0.6666666666666666,\"#ed7953\"],[0.7777777777777778,\"#fb9f3a\"],[0.8888888888888888,\"#fdca26\"],[1.0,\"#f0f921\"]],\"sequentialminus\":[[0.0,\"#0d0887\"],[0.1111111111111111,\"#46039f\"],[0.2222222222222222,\"#7201a8\"],[0.3333333333333333,\"#9c179e\"],[0.4444444444444444,\"#bd3786\"],[0.5555555555555556,\"#d8576b\"],[0.6666666666666666,\"#ed7953\"],[0.7777777777777778,\"#fb9f3a\"],[0.8888888888888888,\"#fdca26\"],[1.0,\"#f0f921\"]]},\"colorway\":[\"#636efa\",\"#EF553B\",\"#00cc96\",\"#ab63fa\",\"#FFA15A\",\"#19d3f3\",\"#FF6692\",\"#B6E880\",\"#FF97FF\",\"#FECB52\"],\"font\":{\"color\":\"#2a3f5f\"},\"geo\":{\"bgcolor\":\"white\",\"lakecolor\":\"white\",\"landcolor\":\"#E5ECF6\",\"showlakes\":true,\"showland\":true,\"subunitcolor\":\"white\"},\"hoverlabel\":{\"align\":\"left\"},\"hovermode\":\"closest\",\"mapbox\":{\"style\":\"light\"},\"paper_bgcolor\":\"white\",\"plot_bgcolor\":\"#E5ECF6\",\"polar\":{\"angularaxis\":{\"gridcolor\":\"white\",\"linecolor\":\"white\",\"ticks\":\"\"},\"bgcolor\":\"#E5ECF6\",\"radialaxis\":{\"gridcolor\":\"white\",\"linecolor\":\"white\",\"ticks\":\"\"}},\"scene\":{\"xaxis\":{\"backgroundcolor\":\"#E5ECF6\",\"gridcolor\":\"white\",\"gridwidth\":2,\"linecolor\":\"white\",\"showbackground\":true,\"ticks\":\"\",\"zerolinecolor\":\"white\"},\"yaxis\":{\"backgroundcolor\":\"#E5ECF6\",\"gridcolor\":\"white\",\"gridwidth\":2,\"linecolor\":\"white\",\"showbackground\":true,\"ticks\":\"\",\"zerolinecolor\":\"white\"},\"zaxis\":{\"backgroundcolor\":\"#E5ECF6\",\"gridcolor\":\"white\",\"gridwidth\":2,\"linecolor\":\"white\",\"showbackground\":true,\"ticks\":\"\",\"zerolinecolor\":\"white\"}},\"shapedefaults\":{\"line\":{\"color\":\"#2a3f5f\"}},\"ternary\":{\"aaxis\":{\"gridcolor\":\"white\",\"linecolor\":\"white\",\"ticks\":\"\"},\"baxis\":{\"gridcolor\":\"white\",\"linecolor\":\"white\",\"ticks\":\"\"},\"bgcolor\":\"#E5ECF6\",\"caxis\":{\"gridcolor\":\"white\",\"linecolor\":\"white\",\"ticks\":\"\"}},\"title\":{\"x\":0.05},\"xaxis\":{\"automargin\":true,\"gridcolor\":\"white\",\"linecolor\":\"white\",\"ticks\":\"\",\"title\":{\"standoff\":15},\"zerolinecolor\":\"white\",\"zerolinewidth\":2},\"yaxis\":{\"automargin\":true,\"gridcolor\":\"white\",\"linecolor\":\"white\",\"ticks\":\"\",\"title\":{\"standoff\":15},\"zerolinecolor\":\"white\",\"zerolinewidth\":2}}},\"title\":{\"text\":\"Deaths\"}},                        {\"responsive\": true}                    ).then(function(){\n",
       "                            \n",
       "var gd = document.getElementById('04360031-e155-4e47-ac1c-80a52d48f6a6');\n",
       "var x = new MutationObserver(function (mutations, observer) {{\n",
       "        var display = window.getComputedStyle(gd).display;\n",
       "        if (!display || display === 'none') {{\n",
       "            console.log([gd, 'removed!']);\n",
       "            Plotly.purge(gd);\n",
       "            observer.disconnect();\n",
       "        }}\n",
       "}});\n",
       "\n",
       "// Listen for the removal of the full notebook cells\n",
       "var notebookContainer = gd.closest('#notebook-container');\n",
       "if (notebookContainer) {{\n",
       "    x.observe(notebookContainer, {childList: true});\n",
       "}}\n",
       "\n",
       "// Listen for the clearing of the current output cell\n",
       "var outputEl = gd.closest('.output');\n",
       "if (outputEl) {{\n",
       "    x.observe(outputEl, {childList: true});\n",
       "}}\n",
       "\n",
       "                        })                };                });            </script>        </div>"
      ]
     },
     "metadata": {},
     "output_type": "display_data"
    }
   ],
   "source": [
    "states = overdoses['State'] \n",
    "death_per_capita = overdoses['Deaths Per Capita']\n",
    "title = \"Deaths per capita\"\n",
    "plot_graph(death_per_capita, states, title)\n",
    "\n",
    "\n",
    "states = overdoses['State'] \n",
    "death_per_capita = overdoses['Deaths']\n",
    "title = \"Deaths\"\n",
    "plot_graph(death_per_capita, states, title)    \n",
    "\n",
    "# plt.rcdefaults()\n",
    "# fig, ax = plt.subplots()\n",
    "\n",
    "# death_per_capita = overdoses['Deaths Per Capita']\n",
    "# states = overdoses['State'] \n",
    "# y_pos = np.arange(len(overdoses['State']))\n",
    "# error = np.random.rand(len(overdoses['State']))\n",
    "\n",
    "# ax.barh(y_pos, death_per_capita, align='center')\n",
    "# ax.set_yticks(y_pos)\n",
    "# ax.invert_yaxis()  # labels read top-to-bottom\n",
    "# ax.set_xlabel('States')\n",
    "# ax.set_title('Deaths Per Capita')\n",
    "\n",
    "\n",
    "# plt.show()"
   ]
  },
  {
   "cell_type": "markdown",
   "metadata": {},
   "source": [
    "<h2>Data Cleaning</h2>"
   ]
  },
  {
   "cell_type": "markdown",
   "metadata": {},
   "source": [
    "<h>Comparing the number of states between our datasets</h>"
   ]
  },
  {
   "cell_type": "code",
   "execution_count": 12,
   "metadata": {},
   "outputs": [
    {
     "data": {
      "text/plain": [
       "array(['TX', 'AL', 'NY', 'AZ', 'NV', 'PA', 'NH', 'WI', 'PR', 'CO', 'OH',\n",
       "       'MA', 'CT', 'FL', 'MN', 'UT', 'IA', 'IL', 'MT', 'IN', 'VA', 'CA',\n",
       "       'OR', 'NE', 'MI', 'NM', 'TN', 'KS', 'LA', 'MD', 'MO', 'AR', 'NC',\n",
       "       'NJ', 'SC', 'WY', 'ME', 'OK', 'ND', 'KY', 'GA', 'DE', 'WA', 'RI',\n",
       "       'WV', 'AK', 'ID', 'VT', 'HI', 'MS', 'DC', 'SD', 'AE', 'ZZ', 'GU',\n",
       "       'AA', 'VI'], dtype=object)"
      ]
     },
     "execution_count": 12,
     "metadata": {},
     "output_type": "execute_result"
    }
   ],
   "source": [
    "prescriber.State.unique()"
   ]
  },
  {
   "cell_type": "code",
   "execution_count": 13,
   "metadata": {},
   "outputs": [
    {
     "data": {
      "text/plain": [
       "array(['AL', 'AK', 'AZ', 'AR', 'CA', 'CO', 'CT', 'DE', 'FL', 'GA', 'HI',\n",
       "       'ID', 'IL', 'IN', 'IA', 'KS', 'KY', 'LA', 'ME', 'MD', 'MA', 'MI',\n",
       "       'MN', 'MS', 'MO', 'MT', 'NE', 'NV', 'NH', 'NJ', 'NM', 'NY', 'NC',\n",
       "       'ND', 'OH', 'OK', 'OR', 'PA', 'RI', 'SC', 'SD', 'TN', 'TX', 'UT',\n",
       "       'VT', 'VA', 'WA', 'WV', 'WI', 'WY'], dtype=object)"
      ]
     },
     "execution_count": 13,
     "metadata": {},
     "output_type": "execute_result"
    }
   ],
   "source": [
    "# Compare to overdoses dataset\n",
    "overdoses.Abbrev.unique()"
   ]
  },
  {
   "cell_type": "markdown",
   "metadata": {},
   "source": [
    "<h>We can see that the number of states between the two datasets aren't equal.</h>\n",
    "<h>So, We'll compare the state list & clean up states to make the dataset state list equal.<h>\n",
    "<h>Removing the extra states from the prescriber datasets, we get the following</h>"
   ]
  },
  {
   "cell_type": "code",
   "execution_count": 14,
   "metadata": {},
   "outputs": [],
   "source": [
    "prescriber = prescriber[prescriber.State != 'AE']\n",
    "prescriber = prescriber[prescriber.State != 'ZZ']\n",
    "prescriber = prescriber[prescriber.State != 'AA']\n",
    "prescriber = prescriber[prescriber.State != 'PR']\n",
    "prescriber = prescriber[prescriber.State != 'GU']\n",
    "prescriber = prescriber[prescriber.State != 'VI']"
   ]
  },
  {
   "cell_type": "code",
   "execution_count": 15,
   "metadata": {},
   "outputs": [
    {
     "data": {
      "text/plain": [
       "array(['TX', 'AL', 'NY', 'AZ', 'NV', 'PA', 'NH', 'WI', 'CO', 'OH', 'MA',\n",
       "       'CT', 'FL', 'MN', 'UT', 'IA', 'IL', 'MT', 'IN', 'VA', 'CA', 'OR',\n",
       "       'NE', 'MI', 'NM', 'TN', 'KS', 'LA', 'MD', 'MO', 'AR', 'NC', 'NJ',\n",
       "       'SC', 'WY', 'ME', 'OK', 'ND', 'KY', 'GA', 'DE', 'WA', 'RI', 'WV',\n",
       "       'AK', 'ID', 'VT', 'HI', 'MS', 'DC', 'SD'], dtype=object)"
      ]
     },
     "execution_count": 15,
     "metadata": {},
     "output_type": "execute_result"
    }
   ],
   "source": [
    "prescriber.State.unique()"
   ]
  },
  {
   "cell_type": "markdown",
   "metadata": {},
   "source": [
    "<h>Listing out all Credentials</h>"
   ]
  },
  {
   "cell_type": "code",
   "execution_count": 16,
   "metadata": {},
   "outputs": [
    {
     "data": {
      "text/plain": [
       "array(['DDS', 'MD', 'M.D.', 'DO', 'RN, MSN, ANP-BC', 'O.D.', nan,\n",
       "       'D.D.S.', 'ACNP', 'DPM', 'PAC', 'A.R.N.P.', 'MSN, APRN, BC',\n",
       "       'D.O.', 'M.D,', 'APRN', 'PA-C', 'CNM', 'RN CNP', 'DDS MS',\n",
       "       'DNP, APRN-BC, FNP', 'PHARM D.', 'CRNP', 'ARNP', 'D.D.S', 'DPM MD',\n",
       "       'FNP', 'NP', 'DMD', 'PA', 'MPT', 'D.M.D.', 'APRN BC FNP',\n",
       "       'DMD,FAGD', 'MD,MPH', 'BDS,  DDS', 'D.D.S., F.A.G.D.', 'DDS, MD',\n",
       "       'PMH, CNP/CNS', 'P.A.', 'M.D', 'D.O., MPH & TM', 'M.D., PH.D.',\n",
       "       'RPA-C', 'MD FACOG', 'F.N.P.', 'D.O', 'ANP', 'FNP-C', 'D.M.D',\n",
       "       'D.P.M.', 'OD', 'O. D.', 'CNS', 'MS, APRN, FNP-C', 'MD MPH',\n",
       "       'NP-C', 'PHARM D', 'M.D.,', 'MBBS', 'PHYSICIAN ASSISTANT',\n",
       "       'M.D. FCCP', 'MD.', 'CNP', 'DPT', 'D.D.S, M.D.', 'APRN, BC',\n",
       "       'P.A.-C', 'M.D.P.A.', 'F.N.P.-C', 'M. D.', 'CFNP', 'C.N.P', 'APN',\n",
       "       'D.D.S., A.P.C.', 'NP-C, MSN', 'MD FACP', 'R.P.A.', 'N.P.',\n",
       "       'APRN, CNS', 'D.D.S., M.D.', 'PMHNP', 'MD, PHD, ABFP', 'APNP',\n",
       "       'DMD, MD, PLLC', 'M.D., P.A.', 'MPA, MSED, ATC, PA-C', 'D O',\n",
       "       'M.D., M.H.S.', 'M.S., N.P.-C', 'FNP-BC', 'P.A', 'FPMH-NP', 'NFP',\n",
       "       'ARNP-BC', 'CPNP', 'A.P.R.N.', 'P.A.-C.', 'NURSE PRACTITIONER',\n",
       "       'DMD MS', 'APN, BC', 'M.B.B.S.', 'RN, FNP', 'NP, CNM', 'ANP-BC',\n",
       "       'PA-C, MS', 'MD IN TRAINING', 'RN, CNP', 'CRNP,MSN,BC',\n",
       "       'MSN, FNP-C', 'D.O., D.O.S.', 'D D S  M D', 'DNP, ARNP',\n",
       "       'MSN, ARNP, ACNP-BC', 'OO', 'MD PA', 'RN,FNP', 'D.D.S., M.S.',\n",
       "       'MBBS, MD', 'DNP, APRN', 'D.O .', 'CNP, APRN, CNS-RX', 'M.D. PH.D',\n",
       "       'D.D.S., M.S.D.', 'MB,BS', 'FAMILY NURSE PRACTIT', 'WHNP',\n",
       "       'P.A.C.', 'ND', 'PHARM. D.', 'ANP.', 'RN, APN, FNP', 'PA-C, ATC',\n",
       "       'RPA', 'MD, PHD', 'NP, CNS', 'MD, FACEP, FAAEM', 'ANP,BC',\n",
       "       'WHNP-BC', 'APRN-BC, ANP, FNP', 'ANP-FNP-BC', 'D.D.S, F.A.G.D',\n",
       "       'DDS MD', 'P.A-C', 'M.D.,MBA', 'MSN, APN, CNP, NP-C',\n",
       "       'M.D., M.P.H.', 'R.N.  NPF', 'MSN, FNP-BC', 'PMHHNP', 'FNP,NPP',\n",
       "       'C. - F. N. P.', 'DDS. MS', 'O.D., M.P.H.', 'N.D.', 'N. P.',\n",
       "       'ARNP, BSN, MN', 'MD, MSBS', 'M.D, MPH', 'NP-ADULT', 'MS',\n",
       "       'M.D. P.A.', 'MS,APRN,FNP,BC', 'M.D., PHD', 'DNP, APRN-BC',\n",
       "       'OD PC', 'DNP, APRN, NP-C', 'MD, MS', 'MS,MPH', 'M.S.N., A.P.N.',\n",
       "       'O.D', 'D.D,S.', 'MD, PH.D.', 'MD, MPH', 'PA-C, MPAS',\n",
       "       'D.D.S., F.R.C.D.C.', 'ATC, FNP-C', 'PHD, APN', 'APRN-BC,FNP',\n",
       "       'ARNP, BC-GNP', 'RN', 'M.D., F.A.C.R.', 'PA-C (PHYSICIAN ASSI',\n",
       "       'APRN-CNS', 'D,O.', 'MEDICAL DOCTOR', 'D. O.', 'D.D.S, P.A.',\n",
       "       'MPAS, PA-C', 'OD, PA', 'DDS, MSD', 'A.P.R.N. N.P.', 'CNM, FNP-C',\n",
       "       'B.S., PA-C', 'M.D MRCP', 'MD PHD', 'PCS', 'ACNP-BC', 'C.N.P.',\n",
       "       'MD MBA', 'D.M.D., M.D.', 'RNP', 'PHARMD', 'M.D. ,PH.D.',\n",
       "       'MD, PHD, FACC', 'D.O., M.S.', 'ARNP, CNM', 'M.D. ; M.B.,B.S.',\n",
       "       'MS, FNP-BC', 'MD FACE', 'M.D., PA', 'ARNP-C', 'RN, CFNP',\n",
       "       'ACNP-BC, MSN', 'CANP', 'FNP, PHD', 'MBBS, FRCS', 'PHP MD', 'PHC',\n",
       "       'BOARD CERTIFIED FNP', 'RN, ANP', 'M.D, MSC', 'MNS', 'PMH-NP-BC',\n",
       "       'M.H.S., P.A.', 'DNP, ANP-BC', 'NPC', 'M.S.N.', 'DNP, FNP-BC',\n",
       "       'HERSCHEL ROSS DDS', 'M.D., PH. D.', 'DENTIST', 'M.S. C.N.P.',\n",
       "       'MS, PA-C', 'R.P.A.C.', 'MHS, PA-C', 'RN, NP', 'D.D.S., PC',\n",
       "       'MSPAS, PA-C', 'JAMES KIM', 'DDS PS', 'APRN, FNP-BC',\n",
       "       'BSHS, MSN, FNP-BC', 'ANP-C', 'RPA C', 'MD MPH MS DRPH',\n",
       "       'DDS,CAGS', 'A.P.N.', 'D.D.S., B.S.', 'RPAC', 'N.M.D.', 'DDS,MSD',\n",
       "       'D.D.S.,M.S.', 'CNFP', 'ARNP FNP-BC', 'RN, MSN, CCRN, ANP',\n",
       "       'MS RN NPP', 'APRN-BC', 'APN,FNP', 'M.D. - PH.D', 'PHD, FNP',\n",
       "       'MD P C', 'DDS PLLC', 'RN, CS, FNP', 'CRNP- FAMILY', 'D.C., FNP',\n",
       "       'DOCTOR OF OPTOMETRY', 'D.D.S., F.A.C.D.', 'RN, MSN, PMHNP, BC',\n",
       "       'FNP, PMHNP', 'DNP', 'FLORA LAU', 'DDS,MD', 'MD, FACP',\n",
       "       'APN, BC-FNP', 'DMD, MD', 'MD, PH.D', 'DDS, MAGD', 'D.P.M', 'DDA',\n",
       "       'D.M.D., P.C', 'MD  PA', 'PMHCNS-BC', 'RN MSN FNO-C', 'MD, FACS',\n",
       "       'M.D. (H)', 'ARNP, DNP', 'PHARM.D.', 'MSN ANP', 'FNP - C',\n",
       "       'DNP,PMHCNS-BC', 'D.D.S., PH.D.', 'MD, MBA', 'GNP-BC',\n",
       "       'M.D., M.B.A', 'RN,NP', 'MHSA, PA-C', 'PA C', 'MD FACS',\n",
       "       'APRN, PHD, CNS', 'F.N.P', 'DPM, FACFS', 'M.P.A.S., P.A.C., LP',\n",
       "       'D.O.,', 'RN,CFNP', 'M.D., PHARMD.', 'NP,  APRN BC', 'MD., PH.D.',\n",
       "       'M.D., MPH', 'RN MSN CNM ARNP', 'A.R.N.P.-B.C.', 'R.PH.',\n",
       "       'PMHNP-BC', 'DMD, MSD', 'FNP-BC, NP-C', 'C.N.S.', 'P.D., D.D.S.',\n",
       "       'DNP / FNP', 'CRNP, FNP-BC, RN', 'MD FACC', 'AGNP', 'DP',\n",
       "       'RN, MSN, ACNP-BC', 'RN, CS, MS(N),FNP', 'M,D.', 'ARNP,BC',\n",
       "       'RN, MSN, NP-C', 'N.P', 'M.D.,F.A.C.O.G.', 'MSN,FNP-BC', 'NP-F',\n",
       "       'MSN, APN,C', 'ANNA TAVAKKOLI M.D.', 'MS, ANP-C', 'MSN, ARNP',\n",
       "       'DNP, CRNP, NP-C', 'ANPC', 'M.D., M.S.H.S.', 'M.D.,M.P.H.', 'LPN',\n",
       "       'B.S', 'M.N., ARNP', 'MD RD', 'ANP/CNP', 'M.D.,MPH',\n",
       "       'MD,  FCCP, D-ABSM', 'D.D.S,PC', 'D.O., M.D', 'MD FACP FACC',\n",
       "       'DNP, FNP-C', 'A.N.P.', 'MD, PC', 'D.M.D., F.A.G.D.', 'DMD, MDS',\n",
       "       'FNP, BC', 'M.B.B.S', 'CRNA', 'MSN, CRNP', 'PA-C, L.AC.',\n",
       "       'M.S., NP-C', 'A.T.,C. , C.S.C.S.', 'M.D., F.A.C.P.', 'PHYSICIAN',\n",
       "       'RN, MSN, FNP', 'APN-C', 'MS RN CS', 'M.D., P.C.', 'DDS  PC',\n",
       "       'APRN, PMHNP-BC', 'M.D. MPH', 'A.R.N.P. , PMHNP-BC', 'M.D., MS',\n",
       "       'MSN, CNS, ACNP-BC', 'M.D..', 'PA, O.T.', 'FNP-C, ACNP', 'ACNS-BC',\n",
       "       'R.N.', 'M.S.N., R.N., N.P.', 'MD, MSHS', 'M.B.;B.S.',\n",
       "       'M.D., FACOG', 'D.D.S, M.S', 'C.R.N.P.', 'MBBS (MD)', 'MBBCH',\n",
       "       'MSN, ACNP-BC, CCRN', 'ANP-BC, GNP', 'DDS, MS', 'M.D., M.A.',\n",
       "       'MS ANPC', 'M.D., FACS', 'CNP, CNM', 'DRNP', 'M.B., B.S.',\n",
       "       'MBBS,MS', 'D.M.D., M. S.', 'R.N., N.P.', 'RN NP', 'M.D., FAAFP',\n",
       "       'M.D. PH.D.', 'C-FNP', 'PHARMD, DDS', 'M.D., PH.D', 'ANRP',\n",
       "       'A.P.R.N., B.C.', 'RN, APRN, NP, B.C.', 'PMHNP-BC. NP',\n",
       "       'N.D., LAC', 'DMD MD', 'M.D.PH.D.', 'MD, MS, MBA', 'MB.BS, FRCSC',\n",
       "       'M.D.,P.A.', 'M.D., M.S.', 'RN CFNP', 'M D F A A D',\n",
       "       'A.P.R.N., W.H.N.P.', 'MSN, APRN, FNP-BC', 'D. D. S.',\n",
       "       'D.M.D, M.D.', 'MD, MSPH', 'RPH,BCOP, BCPS', 'DMD, MS',\n",
       "       'MSN, APRN, BC, FNP', 'D.D.S. P.S.', 'RN, PMHNP', 'WHNP, CFNP',\n",
       "       'DPM PC', 'RN,C,FNP', 'ARNP CS', 'DDS, PS', 'C.N.M.,F.N.P.',\n",
       "       'DNP, FNP', 'DMD BA', 'PA (PHYSICIAN ASSIST', 'D.O., RPH',\n",
       "       'CNM, FNP, DNP', 'M.D., F.C.C.P.', 'DO, LACC', 'R PA-C', 'P.A.C/',\n",
       "       'B.D.S.', 'DDS,MS', 'DC, PA-C', 'DMD DR MED DENT', 'RN CNS',\n",
       "       'WHCNP/ANP', 'ARANP', 'MS, RN, FNP-C', 'GNP-C', 'D.O., M.D.',\n",
       "       'PA-C, MSPAC', 'M. D. M.P.H.', 'DO, MPH', 'PH.D., NP-C',\n",
       "       'FNP-APNP', 'OD, FAAO, FOAA', 'BDS, DDS', 'M D', 'MT',\n",
       "       'R.N, M.S.N., G.N.P.', 'MD, M.P.H., A.T.C', 'OD, MS',\n",
       "       'PHD, NP, PMHNP-BC', 'ARNP, CDE', 'RN ACNP', 'M.D.,M.R.C.S.',\n",
       "       'PA-C MPAS', 'RN, MSN, CS, FNP', 'DNP FNP-BC', 'MD, PA', 'NPF',\n",
       "       'PSYD', 'D.D.S., P.A.', 'MSN, NP-C', 'MD, DDS', 'EIN-', 'WHCNP',\n",
       "       'APN, CNP', 'R.N., N.P., C.S.', 'M.D. PHD', 'CCNS, NP',\n",
       "       'DDS. PRACTICE LIMITE', 'ARNP, LP', 'ND, ARNP', 'D.M.D. P.A.',\n",
       "       'APRN BC', 'DDS, FAGD', 'C-PA', 'APN, C', 'APN FNP-C', 'MD SC',\n",
       "       'MSN, MPH, CNM, FNP-C', 'D.O.,P.A.', 'D D S', 'GNP-BG',\n",
       "       'MSN, RN, FNP', 'ARNP BC', 'PHD', 'RN, NP-C', 'RN, MSN, FNP-C',\n",
       "       'MD FACG', 'DMD,MD', 'APRN,BC', 'M.D., M.P.H., M.B.A.', 'A.R.N.P',\n",
       "       'DMD, MPH', 'MSN, RN, ACNP-BC', 'M.D., PHD, NEUROLOGY', 'APN-NP',\n",
       "       'BCFNP', 'RN BC ANP', 'CNP-FNP-DNP', 'APN, ACNS-BC', 'GNP/APRN',\n",
       "       'FNPC', 'MMS, PA-C', 'D.M.D., M.S.', 'D.O,', 'MD, FACOG', 'DR',\n",
       "       'FNP-BC, PMHNP-BC', 'C.R.N.P', 'NPP', 'MD, MPH, FACP',\n",
       "       'M.D.,PH.D.', 'DO, FACOOG', 'APN, MSN', 'DMD FAGD', 'D.M.D, M.S.',\n",
       "       'APRN,CS', 'APRN-BC, ND', 'LPN, RN, ANP', 'O.D, F.A.A.O.', 'C- NP',\n",
       "       'CRNP PMH', 'RN, BSN, CRNA, MSN', 'APRN, PHD.', 'C.N.M.',\n",
       "       'D.D.S, M.S.', 'MD/PHD', 'DDS, MS, MSPH', 'R.N.P.', 'MED, LPC',\n",
       "       'PHYSICIAN ASST PA C', 'MD,PA', 'M.D.  MMSC.', 'NP, MSN',\n",
       "       'R.N., C.N.P.', 'PHD APN FNP-C', 'FNP BC', 'M.D.PA', 'MSN',\n",
       "       'RN, CRNP', 'RN-C, FNP', 'DMD PC', 'D.N.P.', 'FNP, ARNP', 'DPM`',\n",
       "       'MFTI', 'PHD PAC', 'APRN-BC, CFNP', 'D.M.D., P.A', 'MD, FACC',\n",
       "       'APRN, NP', 'MB, BCH', 'DC', 'M.D., M.B.A.', 'APRN,PMHNP-BC',\n",
       "       'M.D., P.T., A.T.,C.', 'CRNP-PMH', 'D. P. M.', 'PHARM. D',\n",
       "       'MSN-FNP', 'M. D.,', 'MSN, APRN, PMHNP-BC', 'MD, DVM', 'MS, APRN',\n",
       "       'RN, MA, NP-C,', 'GNP', 'APRN, PMHNP', 'M.D., D.T. M & H',\n",
       "       'M.M.D.', 'RN BSN MSN FNP', 'D.D.S.,M.M.SC.', 'OPTOMETRIST',\n",
       "       'OTRL', 'PHD., ARNP, BC', 'MSN, APRN, FNP-C', 'RN, WHNP, ANP',\n",
       "       'D.M.D.,M.S.', 'DNP, MS, FNP-C', 'CNS/ANP', 'PA-C, MSC',\n",
       "       'D.D.S., M.S., P.C.', 'APRN-FNP', 'D.D.S. M.D.', 'PT', 'MSSW, LSW',\n",
       "       'D.O., P.C.', 'R.N., C.F.N.P.', 'RN,BSN,APN-C', 'APRN, FNP',\n",
       "       'CRNP, NP-C', 'DNP,CRNP', 'D.D.S, M.D', 'RN, CNN, APN', 'RNCS',\n",
       "       'PHYSICIAN ASSISTANTS', 'APRN (N.P)', 'M.D.  MPH', 'PA-C, DMO',\n",
       "       'M.D.FACP', 'DNP-CFNP', 'PA-C, ND, MSOM, MS', 'D.D.S., P.C',\n",
       "       'FNP, CNM', 'RN, FNP-C', 'ANP B-C', 'DPM PA', 'C.F.N.P',\n",
       "       'PA-C, MPA', 'D.D.S.,M.S', 'PA-C, MPH', 'PMHNP, RN', 'MSN, NPC',\n",
       "       'M.D., F.A.C.E', 'RN,CNP', 'NP, PHD', 'DDS, PHD', 'PHD, ARNP',\n",
       "       'D.O., P.A.', 'M.D.F.A.C.C.', 'FNP/C', 'PH. D., PA-C', 'RN, APNP',\n",
       "       'M.D., F.A.C.C.', 'APN, NP-C', 'FNP CRNP', 'D. D. S., M. S.',\n",
       "       'RN,CS,MSN', 'RN, MS, FNP-C', 'M.D.PHD', 'MSM, PA-C',\n",
       "       'FNP-BC, CNM', 'MD DO', 'MS, ARNP, PMHNP-BC', 'D.M.D, P.A.',\n",
       "       'PA-C, PHARM.D.', 'F.N.P.C.', 'F.A.A.O', 'MSN, ACNS-BC, AGNP-C',\n",
       "       'MD, RPVI', 'MS, RN, ANP', 'GREG SAWYER, D.D.S.', 'M,D,', 'DDS PA',\n",
       "       'ARNP RN BSN MSN', 'C-NP', 'M.D., OD', 'ACNP-BC, CCNS',\n",
       "       'DDS, PLLC', 'MSN APRN BC', 'P. A.', 'M.D/', 'MSN, CNS, A.P.R.N.',\n",
       "       'MS, APN, CANP', 'MD, MA', 'M.ED., O.D.', 'RPH.', 'APRN, FNP-C',\n",
       "       'APRN, CSN', 'D.M.D., P.A.', 'MSN, APRN FNP-BC', 'MSN CRNP',\n",
       "       'RN, DDS, MS, PHD', 'O.D, P.A.', 'CRNP-F, APRN-PMH', 'MS,PA-C',\n",
       "       'APRN, CNP, CNNP', 'PA, RN', 'P.T.', 'MSPA, PA-C', 'FNP, DCNP',\n",
       "       'MS PA-C', 'MD, ABIHM', 'NURSE PRACTIONONER', 'MSN, APN, C',\n",
       "       'APRN-CNP', 'M.D., M.P.H', 'MSN, GNP-BC', 'ARNP - FNP-C',\n",
       "       'D.D.S., M.S., PH.D.', 'MD/FACS', 'NP, DNP', 'M.D., M.S',\n",
       "       'MD, CWS, FCCWS', 'M.D. PA', 'PMHNP/ANP', 'NURSE PRACTIONER',\n",
       "       'D.O, P.A.', 'AGACNP', 'DNP, FNP, PMHNP-BC', 'B.S.N., C.R.N.P.',\n",
       "       'RN, FNP-BC', 'MS, MSN, RN, FNP-BC', 'M.D., PH.D., M.SC.',\n",
       "       'RN, MSN, FNP, NP-C', 'PA PHD', 'RN-BC, MSN, CRNP', 'MHS, PAC',\n",
       "       'PHARM.D', 'PH. D. , M.D.', 'ENP', 'M.D,F.A.C.P,F.A.C.G', 'RPH',\n",
       "       'ADULT NP', 'D.D.S.,M.D', 'MB CHB', 'FNP-BC, WHNP-BC',\n",
       "       'M.D., LLC.', 'MD FACEP', 'CRNA, FNP-C', 'ARNP, NP-C', 'RNCNP',\n",
       "       'ARNP    PHD', 'RN,MSN,FNP-C', 'RN, APRN-BC, A', 'APRN-C', 'M.D>',\n",
       "       'D.O., MPH', 'N.P., M.P.H.', 'MD DMD', 'RN MSN APN', 'AGPCNP-BC',\n",
       "       'M.S.N., C.N.S.', '(DMD)', 'B.D.S., M.S.', 'RPA-C MPAS',\n",
       "       'D.D.S, FAGD', 'RN,MSN,CNP', 'MD FACC FACA FCCP', 'MSN, FNP',\n",
       "       'FNP, ACNP', 'DNP, RN, ANP-BC', 'MSARNP', 'APRN-BC, FPMHNP', 'NMD',\n",
       "       'MD, PHD, FACP', 'M.D., J.D.', 'F.N.P.-C.', 'RN, MSN, CANP',\n",
       "       'MD OD', 'D.D.S.,M.P.H', 'DPM, MS', 'R.N.,N.P.,C.N.S.,',\n",
       "       'MD, FACC, NASPE', 'OPHTHALMOLGIST M.D.', 'RN,MS,CNS',\n",
       "       'D.M.D., M.M.SC.', 'MD,MRCPI,FASN', 'M.D. M.P.H.',\n",
       "       'GERALD SULLIVAN', 'M..', 'APRN-RN', 'MD, MSC', 'MD OBGYN',\n",
       "       'DDS, MPH', 'MD`', 'MD, FAAFP', 'M.D./FAMILY PRACTICE', 'APN,C.',\n",
       "       'M.S.N., R.N., A.P.N.', 'RN, MS, FNP', 'N P', 'ACNP/FNP', 'MDPHD',\n",
       "       'RNC-OB', 'CNP, CNS, APRN BC', 'FNP-BC, ARNP', 'APRN-BC, MSN',\n",
       "       'P.A.C', 'RN, ACNP-BC', 'M.D./PH.D.', 'M.D., F.A.A.F.P.',\n",
       "       'M.D., P.C', 'AHCNS', 'RN, ACNS-BC', 'DNP, PMHNP-BC', 'M.D, PHD',\n",
       "       'M.D., PH.D., MRCP', 'M.S.N., N.P.', 'P,A,', 'DR,NP',\n",
       "       'D.D.S., P.C.', 'M.D., PHARM.D.', 'DO, M.S.', 'MHSC, PA-C',\n",
       "       'MSN - FNP-C', 'DDS, PC', 'C.F.N.P.', 'MD FACC FSCAI FSVM',\n",
       "       'DNSC, ARNP, CS', 'NP C', 'M.B.,B.S.', 'PH.D., MSN, PMHNP.',\n",
       "       'CFPMHNP', 'M.D.,  PHD.', 'DDS, MS, PC', 'RN, BSN, APN', 'PA, PT',\n",
       "       'RXN, NP', 'MS,PAC', 'RN, APRN', 'RN, MSN, PMHNP', 'RN,DDS',\n",
       "       'RNCS FNP', 'DDS,MS, DIPLOMATE', 'DDA, PA', 'MSDMD', 'DDS.FAGD',\n",
       "       'RN/PC, PMHCNS-BC', 'PSYNP', 'M.D., FACP', 'MSN APRN',\n",
       "       'M.D.  F.A.C.P.', 'D.M.D., J.D.', 'MD,DC', 'DMD MSD',\n",
       "       'M.D., F.A.P.A.', 'DDS MAGD,PC', 'MD DDS', 'MDFAC',\n",
       "       'R.N. MS. C.U.N.P.', 'ARNP, FNP-BC', 'D.D.S., D.M.D.', 'MSN,  APN',\n",
       "       'FACEP MD', 'D O P C', 'FNP, GNP, RN', 'NP,RN', 'RNC WHNP',\n",
       "       'P.A, A.T.C', 'DNP, PMHNP-C, FNP-C', 'MSN, AGPCNP-BC', 'O D  PS',\n",
       "       'OD, FAAO', 'CNS   FNP-C', 'MSN, APRN', 'MD,PH.D', 'NP, RN',\n",
       "       'MBBS, MRCP', 'RN, MSN, OCN, NP-C', 'M.D.,PHD', 'D.P.M., FACFAS',\n",
       "       'CNM C', 'MS, RPA-C', 'FNP MSN RN', 'BRIAN MASTERSON',\n",
       "       'DO, MBA, MS', 'DDS, PA', 'RN,MSN', 'RN/BSN, MSN ,FNP-BC',\n",
       "       'PH.D., MD', 'MD FAAOS FACS', 'D.O., PH.D.', 'D. M. D.',\n",
       "       'DENTIST DDS', 'MDCM FRCS', 'N.P.-C', 'RNC-ANP', 'APNC',\n",
       "       'APRN, NP-C', 'MD-A PROF CORP.', 'MD MS', 'BA,,DC, DO,JD, LLM',\n",
       "       'M.D., FACC', 'MD, PT', 'P.A.,C.', 'MSN NP', 'PA-C, MSPAS, MPH',\n",
       "       'PHYSICIAN ASSISANT', 'DDS FAGD'], dtype=object)"
      ]
     },
     "execution_count": 16,
     "metadata": {},
     "output_type": "execute_result"
    }
   ],
   "source": [
    "prescriber.Credentials.unique()"
   ]
  },
  {
   "cell_type": "markdown",
   "metadata": {},
   "source": [
    "<h>Listing out specialities</h>"
   ]
  },
  {
   "cell_type": "code",
   "execution_count": 17,
   "metadata": {},
   "outputs": [
    {
     "data": {
      "text/plain": [
       "array(['Dentist', 'General Surgery', 'General Practice',\n",
       "       'Internal Medicine', 'Hematology/Oncology', 'Family Practice',\n",
       "       'Nurse Practitioner', 'Optometry', 'Cardiology',\n",
       "       'Obstetrics/Gynecology', 'Podiatry', 'Physician Assistant',\n",
       "       'Diagnostic Radiology',\n",
       "       'Student in an Organized Health Care Education/Training Program',\n",
       "       'Neurology', 'Certified Nurse Midwife', 'Rheumatology',\n",
       "       'Pharmacist', 'Urology', 'Cardiac Electrophysiology',\n",
       "       'Dermatology', 'Emergency Medicine', 'Psychiatry & Neurology',\n",
       "       'Infectious Disease', 'Psychiatry', 'Gastroenterology',\n",
       "       'Ophthalmology', 'Thoracic Surgery',\n",
       "       'Oral Surgery (dentists only)', 'Anesthesiology',\n",
       "       'Orthopedic Surgery', 'Otolaryngology', 'Pulmonary Disease',\n",
       "       'Neuropsychiatry', 'Physical Therapist', 'Pediatric Medicine',\n",
       "       'Physical Medicine and Rehabilitation', 'Maxillofacial Surgery',\n",
       "       'Certified Clinical Nurse Specialist', 'Preventive Medicine',\n",
       "       'Allergy/Immunology', 'Hand Surgery',\n",
       "       'Hospice and Palliative Care', 'Medical Oncology', 'Nephrology',\n",
       "       'Plastic and Reconstructive Surgery', 'Colon & Rectal Surgery',\n",
       "       'Hospitalist', 'Colorectal Surgery (formerly proctology)',\n",
       "       'Specialist', 'Geriatric Medicine', 'Gynecological/Oncology',\n",
       "       'Neurosurgery', 'Clinic/Center', 'Interventional Pain Management',\n",
       "       'Orthopaedic Surgery', 'Radiation Oncology', 'Endocrinology',\n",
       "       'Critical Care (Intensivists)', 'Vascular Surgery',\n",
       "       'Family Medicine', 'Registered Nurse', 'Pain Management',\n",
       "       'Sports Medicine', 'Unknown Physician Specialty Code',\n",
       "       'Osteopathic Manipulative Medicine', 'Interventional Radiology',\n",
       "       'Naturopath', 'Hematology', 'Preferred Provider Organization',\n",
       "       'Cardiac Surgery', 'Geriatric Psychiatry',\n",
       "       'Medical Genetics, Ph.D. Medical Genetics', 'Surgical Oncology',\n",
       "       'Surgery', 'Legal Medicine',\n",
       "       'Neuromusculoskeletal Medicine, Sports Medicine',\n",
       "       'Health Maintenance Organization',\n",
       "       'Psychologist (billing independently)', 'Neurological Surgery',\n",
       "       'Plastic Surgery', 'Homeopath', 'Licensed Practical Nurse', 'CRNA',\n",
       "       'Addiction Medicine', 'Specialist/Technologist',\n",
       "       'Nuclear Medicine', 'Unknown Supplier/Provider',\n",
       "       'Medical Genetics', 'Oral & Maxillofacial Surgery',\n",
       "       'Clinical Pharmacology', 'Sleep Medicine', 'Pathology',\n",
       "       'Counselor', 'Slide Preparation Facility', 'Rehabilitation Agency',\n",
       "       'Psychologist', 'Military Health Care Provider',\n",
       "       'General Acute Care Hospital',\n",
       "       'Multispecialty Clinic/Group Practice',\n",
       "       'Thoracic Surgery (Cardiothoracic Vascular Surgery)', 'Midwife',\n",
       "       'Chiropractic', 'Licensed Clinical Social Worker',\n",
       "       'Community Health Worker', 'Hospital (Dmercs Only)',\n",
       "       'Pharmacy Technician', 'Behavioral Analyst'], dtype=object)"
      ]
     },
     "execution_count": 17,
     "metadata": {},
     "output_type": "execute_result"
    }
   ],
   "source": [
    "prescriber.Specialty.unique()"
   ]
  },
  {
   "cell_type": "markdown",
   "metadata": {},
   "source": [
    "<h>Male <b>vs</b> Female</h>"
   ]
  },
  {
   "cell_type": "code",
   "execution_count": 18,
   "metadata": {},
   "outputs": [
    {
     "data": {
      "text/plain": [
       "Gender\n",
       "F    0.378166\n",
       "M    0.621834\n",
       "dtype: float64"
      ]
     },
     "execution_count": 18,
     "metadata": {},
     "output_type": "execute_result"
    }
   ],
   "source": [
    "prescriber.groupby('Gender').size() / prescriber.groupby('Gender').size().sum()"
   ]
  },
  {
   "cell_type": "markdown",
   "metadata": {},
   "source": [
    "<h>The number of prescribers who prescribed opioid drugs <b>vs</b> those who did not</h>"
   ]
  },
  {
   "cell_type": "code",
   "execution_count": 19,
   "metadata": {},
   "outputs": [
    {
     "data": {
      "text/plain": [
       "Opioid.Prescriber\n",
       "0    0.41282\n",
       "1    0.58718\n",
       "dtype: float64"
      ]
     },
     "execution_count": 19,
     "metadata": {},
     "output_type": "execute_result"
    }
   ],
   "source": [
    "prescriber.groupby('Opioid.Prescriber').size() / prescriber.groupby('Opioid.Prescriber').size().sum()"
   ]
  },
  {
   "cell_type": "code",
   "execution_count": 20,
   "metadata": {},
   "outputs": [
    {
     "data": {
      "image/png": "[encoded data removed]",
      "text/plain": [
       "<Figure size 640x480 with 1 Axes>"
      ]
     },
     "metadata": {},
     "output_type": "display_data"
    }
   ],
   "source": [
    "# Plotting\n",
    "pd.value_counts(prescriber['Opioid.Prescriber']).plot.bar()\n",
    "plt.show()"
   ]
  },
  {
   "cell_type": "markdown",
   "metadata": {},
   "source": [
    "<h>We can see from the above graph that our dataset has a slightly higher number of opioid prescribers</h>"
   ]
  },
  {
   "cell_type": "code",
   "execution_count": 21,
   "metadata": {},
   "outputs": [],
   "source": [
    "#opioids = df_data_1 \n",
    "name = opioids['Drug Name']\n",
    "import re\n",
    "new_name = name.apply(lambda x:re.sub(\"\\ |-\",\".\",str(x)))\n",
    "columns = prescriber.columns\n",
    "Abandoned_variables = set(columns).intersection(set(new_name))\n",
    "Kept_variable = []\n",
    "for each in columns:\n",
    "    if each in Abandoned_variables:\n",
    "        pass\n",
    "    else:\n",
    "        Kept_variable.append(each)"
   ]
  },
  {
   "cell_type": "code",
   "execution_count": 22,
   "metadata": {},
   "outputs": [
    {
     "data": {
      "text/html": [
       "<div>\n",
       "<style scoped>\n",
       "    .dataframe tbody tr th:only-of-type {\n",
       "        vertical-align: middle;\n",
       "    }\n",
       "\n",
       "    .dataframe tbody tr th {\n",
       "        vertical-align: top;\n",
       "    }\n",
       "\n",
       "    .dataframe thead th {\n",
       "        text-align: right;\n",
       "    }\n",
       "</style>\n",
       "<table border=\"1\" class=\"dataframe\">\n",
       "  <thead>\n",
       "    <tr style=\"text-align: right;\">\n",
       "      <th></th>\n",
       "      <th>NPI</th>\n",
       "      <th>Gender</th>\n",
       "      <th>State</th>\n",
       "      <th>Credentials</th>\n",
       "      <th>Specialty</th>\n",
       "      <th>ABILIFY</th>\n",
       "      <th>ACYCLOVIR</th>\n",
       "      <th>ADVAIR.DISKUS</th>\n",
       "      <th>AGGRENOX</th>\n",
       "      <th>ALENDRONATE.SODIUM</th>\n",
       "      <th>...</th>\n",
       "      <th>VERAPAMIL.ER</th>\n",
       "      <th>VESICARE</th>\n",
       "      <th>VOLTAREN</th>\n",
       "      <th>VYTORIN</th>\n",
       "      <th>WARFARIN.SODIUM</th>\n",
       "      <th>XARELTO</th>\n",
       "      <th>ZETIA</th>\n",
       "      <th>ZIPRASIDONE.HCL</th>\n",
       "      <th>ZOLPIDEM.TARTRATE</th>\n",
       "      <th>Opioid.Prescriber</th>\n",
       "    </tr>\n",
       "  </thead>\n",
       "  <tbody>\n",
       "    <tr>\n",
       "      <th>0</th>\n",
       "      <td>1710982582</td>\n",
       "      <td>M</td>\n",
       "      <td>TX</td>\n",
       "      <td>DDS</td>\n",
       "      <td>Dentist</td>\n",
       "      <td>0</td>\n",
       "      <td>0</td>\n",
       "      <td>0</td>\n",
       "      <td>0</td>\n",
       "      <td>0</td>\n",
       "      <td>...</td>\n",
       "      <td>0</td>\n",
       "      <td>0</td>\n",
       "      <td>0</td>\n",
       "      <td>0</td>\n",
       "      <td>0</td>\n",
       "      <td>0</td>\n",
       "      <td>0</td>\n",
       "      <td>0</td>\n",
       "      <td>0</td>\n",
       "      <td>1</td>\n",
       "    </tr>\n",
       "    <tr>\n",
       "      <th>1</th>\n",
       "      <td>1245278100</td>\n",
       "      <td>F</td>\n",
       "      <td>AL</td>\n",
       "      <td>MD</td>\n",
       "      <td>General Surgery</td>\n",
       "      <td>0</td>\n",
       "      <td>0</td>\n",
       "      <td>0</td>\n",
       "      <td>0</td>\n",
       "      <td>0</td>\n",
       "      <td>...</td>\n",
       "      <td>0</td>\n",
       "      <td>0</td>\n",
       "      <td>0</td>\n",
       "      <td>0</td>\n",
       "      <td>0</td>\n",
       "      <td>0</td>\n",
       "      <td>0</td>\n",
       "      <td>0</td>\n",
       "      <td>35</td>\n",
       "      <td>1</td>\n",
       "    </tr>\n",
       "    <tr>\n",
       "      <th>2</th>\n",
       "      <td>1427182161</td>\n",
       "      <td>F</td>\n",
       "      <td>NY</td>\n",
       "      <td>M.D.</td>\n",
       "      <td>General Practice</td>\n",
       "      <td>0</td>\n",
       "      <td>0</td>\n",
       "      <td>0</td>\n",
       "      <td>0</td>\n",
       "      <td>0</td>\n",
       "      <td>...</td>\n",
       "      <td>0</td>\n",
       "      <td>0</td>\n",
       "      <td>0</td>\n",
       "      <td>0</td>\n",
       "      <td>0</td>\n",
       "      <td>0</td>\n",
       "      <td>0</td>\n",
       "      <td>0</td>\n",
       "      <td>25</td>\n",
       "      <td>0</td>\n",
       "    </tr>\n",
       "    <tr>\n",
       "      <th>3</th>\n",
       "      <td>1669567541</td>\n",
       "      <td>M</td>\n",
       "      <td>AZ</td>\n",
       "      <td>MD</td>\n",
       "      <td>Internal Medicine</td>\n",
       "      <td>0</td>\n",
       "      <td>0</td>\n",
       "      <td>0</td>\n",
       "      <td>0</td>\n",
       "      <td>21</td>\n",
       "      <td>...</td>\n",
       "      <td>0</td>\n",
       "      <td>0</td>\n",
       "      <td>0</td>\n",
       "      <td>0</td>\n",
       "      <td>0</td>\n",
       "      <td>0</td>\n",
       "      <td>0</td>\n",
       "      <td>0</td>\n",
       "      <td>0</td>\n",
       "      <td>1</td>\n",
       "    </tr>\n",
       "    <tr>\n",
       "      <th>4</th>\n",
       "      <td>1679650949</td>\n",
       "      <td>M</td>\n",
       "      <td>NV</td>\n",
       "      <td>M.D.</td>\n",
       "      <td>Hematology/Oncology</td>\n",
       "      <td>0</td>\n",
       "      <td>0</td>\n",
       "      <td>0</td>\n",
       "      <td>0</td>\n",
       "      <td>0</td>\n",
       "      <td>...</td>\n",
       "      <td>0</td>\n",
       "      <td>0</td>\n",
       "      <td>0</td>\n",
       "      <td>0</td>\n",
       "      <td>17</td>\n",
       "      <td>28</td>\n",
       "      <td>0</td>\n",
       "      <td>0</td>\n",
       "      <td>0</td>\n",
       "      <td>1</td>\n",
       "    </tr>\n",
       "  </tbody>\n",
       "</table>\n",
       "<p>5 rows × 245 columns</p>\n",
       "</div>"
      ],
      "text/plain": [
       "          NPI Gender State Credentials            Specialty  ABILIFY  \\\n",
       "0  1710982582      M    TX         DDS              Dentist        0   \n",
       "1  1245278100      F    AL          MD      General Surgery        0   \n",
       "2  1427182161      F    NY        M.D.     General Practice        0   \n",
       "3  1669567541      M    AZ          MD    Internal Medicine        0   \n",
       "4  1679650949      M    NV        M.D.  Hematology/Oncology        0   \n",
       "\n",
       "   ACYCLOVIR  ADVAIR.DISKUS  AGGRENOX  ALENDRONATE.SODIUM  ...  VERAPAMIL.ER  \\\n",
       "0          0              0         0                   0  ...             0   \n",
       "1          0              0         0                   0  ...             0   \n",
       "2          0              0         0                   0  ...             0   \n",
       "3          0              0         0                  21  ...             0   \n",
       "4          0              0         0                   0  ...             0   \n",
       "\n",
       "   VESICARE  VOLTAREN  VYTORIN  WARFARIN.SODIUM  XARELTO  ZETIA  \\\n",
       "0         0         0        0                0        0      0   \n",
       "1         0         0        0                0        0      0   \n",
       "2         0         0        0                0        0      0   \n",
       "3         0         0        0                0        0      0   \n",
       "4         0         0        0               17       28      0   \n",
       "\n",
       "   ZIPRASIDONE.HCL  ZOLPIDEM.TARTRATE  Opioid.Prescriber  \n",
       "0                0                  0                  1  \n",
       "1                0                 35                  1  \n",
       "2                0                 25                  0  \n",
       "3                0                  0                  1  \n",
       "4                0                  0                  1  \n",
       "\n",
       "[5 rows x 245 columns]"
      ]
     },
     "execution_count": 22,
     "metadata": {},
     "output_type": "execute_result"
    }
   ],
   "source": [
    "df = prescriber[Kept_variable]\n",
    "df.head()"
   ]
  },
  {
   "cell_type": "code",
   "execution_count": 23,
   "metadata": {},
   "outputs": [
    {
     "data": {
      "text/html": [
       "<div>\n",
       "<style scoped>\n",
       "    .dataframe tbody tr th:only-of-type {\n",
       "        vertical-align: middle;\n",
       "    }\n",
       "\n",
       "    .dataframe tbody tr th {\n",
       "        vertical-align: top;\n",
       "    }\n",
       "\n",
       "    .dataframe thead th {\n",
       "        text-align: right;\n",
       "    }\n",
       "</style>\n",
       "<table border=\"1\" class=\"dataframe\">\n",
       "  <thead>\n",
       "    <tr style=\"text-align: right;\">\n",
       "      <th></th>\n",
       "      <th>Gender</th>\n",
       "      <th>State</th>\n",
       "      <th>Specialty</th>\n",
       "      <th>ABILIFY</th>\n",
       "      <th>ACYCLOVIR</th>\n",
       "      <th>ADVAIR.DISKUS</th>\n",
       "      <th>AGGRENOX</th>\n",
       "      <th>ALENDRONATE.SODIUM</th>\n",
       "      <th>ALLOPURINOL</th>\n",
       "      <th>ALPRAZOLAM</th>\n",
       "      <th>...</th>\n",
       "      <th>VERAPAMIL.ER</th>\n",
       "      <th>VESICARE</th>\n",
       "      <th>VOLTAREN</th>\n",
       "      <th>VYTORIN</th>\n",
       "      <th>WARFARIN.SODIUM</th>\n",
       "      <th>XARELTO</th>\n",
       "      <th>ZETIA</th>\n",
       "      <th>ZIPRASIDONE.HCL</th>\n",
       "      <th>ZOLPIDEM.TARTRATE</th>\n",
       "      <th>Opioid.Prescriber</th>\n",
       "    </tr>\n",
       "  </thead>\n",
       "  <tbody>\n",
       "    <tr>\n",
       "      <th>0</th>\n",
       "      <td>M</td>\n",
       "      <td>TX</td>\n",
       "      <td>Dentist</td>\n",
       "      <td>0</td>\n",
       "      <td>0</td>\n",
       "      <td>0</td>\n",
       "      <td>0</td>\n",
       "      <td>0</td>\n",
       "      <td>0</td>\n",
       "      <td>0</td>\n",
       "      <td>...</td>\n",
       "      <td>0</td>\n",
       "      <td>0</td>\n",
       "      <td>0</td>\n",
       "      <td>0</td>\n",
       "      <td>0</td>\n",
       "      <td>0</td>\n",
       "      <td>0</td>\n",
       "      <td>0</td>\n",
       "      <td>0</td>\n",
       "      <td>1</td>\n",
       "    </tr>\n",
       "    <tr>\n",
       "      <th>1</th>\n",
       "      <td>F</td>\n",
       "      <td>AL</td>\n",
       "      <td>General Surgery</td>\n",
       "      <td>0</td>\n",
       "      <td>0</td>\n",
       "      <td>0</td>\n",
       "      <td>0</td>\n",
       "      <td>0</td>\n",
       "      <td>0</td>\n",
       "      <td>134</td>\n",
       "      <td>...</td>\n",
       "      <td>0</td>\n",
       "      <td>0</td>\n",
       "      <td>0</td>\n",
       "      <td>0</td>\n",
       "      <td>0</td>\n",
       "      <td>0</td>\n",
       "      <td>0</td>\n",
       "      <td>0</td>\n",
       "      <td>35</td>\n",
       "      <td>1</td>\n",
       "    </tr>\n",
       "    <tr>\n",
       "      <th>2</th>\n",
       "      <td>F</td>\n",
       "      <td>NY</td>\n",
       "      <td>General Practice</td>\n",
       "      <td>0</td>\n",
       "      <td>0</td>\n",
       "      <td>0</td>\n",
       "      <td>0</td>\n",
       "      <td>0</td>\n",
       "      <td>0</td>\n",
       "      <td>0</td>\n",
       "      <td>...</td>\n",
       "      <td>0</td>\n",
       "      <td>0</td>\n",
       "      <td>0</td>\n",
       "      <td>0</td>\n",
       "      <td>0</td>\n",
       "      <td>0</td>\n",
       "      <td>0</td>\n",
       "      <td>0</td>\n",
       "      <td>25</td>\n",
       "      <td>0</td>\n",
       "    </tr>\n",
       "    <tr>\n",
       "      <th>3</th>\n",
       "      <td>M</td>\n",
       "      <td>AZ</td>\n",
       "      <td>Internal Medicine</td>\n",
       "      <td>0</td>\n",
       "      <td>0</td>\n",
       "      <td>0</td>\n",
       "      <td>0</td>\n",
       "      <td>21</td>\n",
       "      <td>0</td>\n",
       "      <td>0</td>\n",
       "      <td>...</td>\n",
       "      <td>0</td>\n",
       "      <td>0</td>\n",
       "      <td>0</td>\n",
       "      <td>0</td>\n",
       "      <td>0</td>\n",
       "      <td>0</td>\n",
       "      <td>0</td>\n",
       "      <td>0</td>\n",
       "      <td>0</td>\n",
       "      <td>1</td>\n",
       "    </tr>\n",
       "    <tr>\n",
       "      <th>4</th>\n",
       "      <td>M</td>\n",
       "      <td>NV</td>\n",
       "      <td>Hematology/Oncology</td>\n",
       "      <td>0</td>\n",
       "      <td>0</td>\n",
       "      <td>0</td>\n",
       "      <td>0</td>\n",
       "      <td>0</td>\n",
       "      <td>0</td>\n",
       "      <td>0</td>\n",
       "      <td>...</td>\n",
       "      <td>0</td>\n",
       "      <td>0</td>\n",
       "      <td>0</td>\n",
       "      <td>0</td>\n",
       "      <td>17</td>\n",
       "      <td>28</td>\n",
       "      <td>0</td>\n",
       "      <td>0</td>\n",
       "      <td>0</td>\n",
       "      <td>1</td>\n",
       "    </tr>\n",
       "  </tbody>\n",
       "</table>\n",
       "<p>5 rows × 243 columns</p>\n",
       "</div>"
      ],
      "text/plain": [
       "  Gender State            Specialty  ABILIFY  ACYCLOVIR  ADVAIR.DISKUS  \\\n",
       "0      M    TX              Dentist        0          0              0   \n",
       "1      F    AL      General Surgery        0          0              0   \n",
       "2      F    NY     General Practice        0          0              0   \n",
       "3      M    AZ    Internal Medicine        0          0              0   \n",
       "4      M    NV  Hematology/Oncology        0          0              0   \n",
       "\n",
       "   AGGRENOX  ALENDRONATE.SODIUM  ALLOPURINOL  ALPRAZOLAM  ...  VERAPAMIL.ER  \\\n",
       "0         0                   0            0           0  ...             0   \n",
       "1         0                   0            0         134  ...             0   \n",
       "2         0                   0            0           0  ...             0   \n",
       "3         0                  21            0           0  ...             0   \n",
       "4         0                   0            0           0  ...             0   \n",
       "\n",
       "   VESICARE  VOLTAREN  VYTORIN  WARFARIN.SODIUM  XARELTO  ZETIA  \\\n",
       "0         0         0        0                0        0      0   \n",
       "1         0         0        0                0        0      0   \n",
       "2         0         0        0                0        0      0   \n",
       "3         0         0        0                0        0      0   \n",
       "4         0         0        0               17       28      0   \n",
       "\n",
       "   ZIPRASIDONE.HCL  ZOLPIDEM.TARTRATE  Opioid.Prescriber  \n",
       "0                0                  0                  1  \n",
       "1                0                 35                  1  \n",
       "2                0                 25                  0  \n",
       "3                0                  0                  1  \n",
       "4                0                  0                  1  \n",
       "\n",
       "[5 rows x 243 columns]"
      ]
     },
     "execution_count": 23,
     "metadata": {},
     "output_type": "execute_result"
    }
   ],
   "source": [
    "df = df.drop(df.columns[[0, 3]], axis = 1) \n",
    "df.head()"
   ]
  },
  {
   "cell_type": "code",
   "execution_count": 31,
   "metadata": {},
   "outputs": [
    {
     "data": {
      "text/html": [
       "<div>\n",
       "<style scoped>\n",
       "    .dataframe tbody tr th:only-of-type {\n",
       "        vertical-align: middle;\n",
       "    }\n",
       "\n",
       "    .dataframe tbody tr th {\n",
       "        vertical-align: top;\n",
       "    }\n",
       "\n",
       "    .dataframe thead th {\n",
       "        text-align: right;\n",
       "    }\n",
       "</style>\n",
       "<table border=\"1\" class=\"dataframe\">\n",
       "  <thead>\n",
       "    <tr style=\"text-align: right;\">\n",
       "      <th></th>\n",
       "      <th>State</th>\n",
       "      <th>Specialty</th>\n",
       "      <th>ABILIFY</th>\n",
       "      <th>ACYCLOVIR</th>\n",
       "      <th>ADVAIR.DISKUS</th>\n",
       "      <th>AGGRENOX</th>\n",
       "      <th>ALENDRONATE.SODIUM</th>\n",
       "      <th>ALLOPURINOL</th>\n",
       "      <th>ALPRAZOLAM</th>\n",
       "      <th>AMIODARONE.HCL</th>\n",
       "      <th>...</th>\n",
       "      <th>VENTOLIN.HFA</th>\n",
       "      <th>VERAPAMIL.ER</th>\n",
       "      <th>VESICARE</th>\n",
       "      <th>VOLTAREN</th>\n",
       "      <th>VYTORIN</th>\n",
       "      <th>WARFARIN.SODIUM</th>\n",
       "      <th>XARELTO</th>\n",
       "      <th>ZETIA</th>\n",
       "      <th>ZIPRASIDONE.HCL</th>\n",
       "      <th>ZOLPIDEM.TARTRATE</th>\n",
       "    </tr>\n",
       "  </thead>\n",
       "  <tbody>\n",
       "    <tr>\n",
       "      <th>0</th>\n",
       "      <td>TX</td>\n",
       "      <td>Dentist</td>\n",
       "      <td>0</td>\n",
       "      <td>0</td>\n",
       "      <td>0</td>\n",
       "      <td>0</td>\n",
       "      <td>0</td>\n",
       "      <td>0</td>\n",
       "      <td>0</td>\n",
       "      <td>0</td>\n",
       "      <td>...</td>\n",
       "      <td>0</td>\n",
       "      <td>0</td>\n",
       "      <td>0</td>\n",
       "      <td>0</td>\n",
       "      <td>0</td>\n",
       "      <td>0</td>\n",
       "      <td>0</td>\n",
       "      <td>0</td>\n",
       "      <td>0</td>\n",
       "      <td>0</td>\n",
       "    </tr>\n",
       "    <tr>\n",
       "      <th>1</th>\n",
       "      <td>AL</td>\n",
       "      <td>General Surgery</td>\n",
       "      <td>0</td>\n",
       "      <td>0</td>\n",
       "      <td>0</td>\n",
       "      <td>0</td>\n",
       "      <td>0</td>\n",
       "      <td>0</td>\n",
       "      <td>134</td>\n",
       "      <td>0</td>\n",
       "      <td>...</td>\n",
       "      <td>0</td>\n",
       "      <td>0</td>\n",
       "      <td>0</td>\n",
       "      <td>0</td>\n",
       "      <td>0</td>\n",
       "      <td>0</td>\n",
       "      <td>0</td>\n",
       "      <td>0</td>\n",
       "      <td>0</td>\n",
       "      <td>35</td>\n",
       "    </tr>\n",
       "    <tr>\n",
       "      <th>2</th>\n",
       "      <td>NY</td>\n",
       "      <td>General Practice</td>\n",
       "      <td>0</td>\n",
       "      <td>0</td>\n",
       "      <td>0</td>\n",
       "      <td>0</td>\n",
       "      <td>0</td>\n",
       "      <td>0</td>\n",
       "      <td>0</td>\n",
       "      <td>0</td>\n",
       "      <td>...</td>\n",
       "      <td>0</td>\n",
       "      <td>0</td>\n",
       "      <td>0</td>\n",
       "      <td>0</td>\n",
       "      <td>0</td>\n",
       "      <td>0</td>\n",
       "      <td>0</td>\n",
       "      <td>0</td>\n",
       "      <td>0</td>\n",
       "      <td>25</td>\n",
       "    </tr>\n",
       "    <tr>\n",
       "      <th>3</th>\n",
       "      <td>AZ</td>\n",
       "      <td>Internal Medicine</td>\n",
       "      <td>0</td>\n",
       "      <td>0</td>\n",
       "      <td>0</td>\n",
       "      <td>0</td>\n",
       "      <td>21</td>\n",
       "      <td>0</td>\n",
       "      <td>0</td>\n",
       "      <td>0</td>\n",
       "      <td>...</td>\n",
       "      <td>0</td>\n",
       "      <td>0</td>\n",
       "      <td>0</td>\n",
       "      <td>0</td>\n",
       "      <td>0</td>\n",
       "      <td>0</td>\n",
       "      <td>0</td>\n",
       "      <td>0</td>\n",
       "      <td>0</td>\n",
       "      <td>0</td>\n",
       "    </tr>\n",
       "    <tr>\n",
       "      <th>4</th>\n",
       "      <td>NV</td>\n",
       "      <td>Hematology/Oncology</td>\n",
       "      <td>0</td>\n",
       "      <td>0</td>\n",
       "      <td>0</td>\n",
       "      <td>0</td>\n",
       "      <td>0</td>\n",
       "      <td>0</td>\n",
       "      <td>0</td>\n",
       "      <td>0</td>\n",
       "      <td>...</td>\n",
       "      <td>0</td>\n",
       "      <td>0</td>\n",
       "      <td>0</td>\n",
       "      <td>0</td>\n",
       "      <td>0</td>\n",
       "      <td>17</td>\n",
       "      <td>28</td>\n",
       "      <td>0</td>\n",
       "      <td>0</td>\n",
       "      <td>0</td>\n",
       "    </tr>\n",
       "  </tbody>\n",
       "</table>\n",
       "<p>5 rows × 241 columns</p>\n",
       "</div>"
      ],
      "text/plain": [
       "  State            Specialty  ABILIFY  ACYCLOVIR  ADVAIR.DISKUS  AGGRENOX  \\\n",
       "0    TX              Dentist        0          0              0         0   \n",
       "1    AL      General Surgery        0          0              0         0   \n",
       "2    NY     General Practice        0          0              0         0   \n",
       "3    AZ    Internal Medicine        0          0              0         0   \n",
       "4    NV  Hematology/Oncology        0          0              0         0   \n",
       "\n",
       "   ALENDRONATE.SODIUM  ALLOPURINOL  ALPRAZOLAM  AMIODARONE.HCL  ...  \\\n",
       "0                   0            0           0               0  ...   \n",
       "1                   0            0         134               0  ...   \n",
       "2                   0            0           0               0  ...   \n",
       "3                  21            0           0               0  ...   \n",
       "4                   0            0           0               0  ...   \n",
       "\n",
       "   VENTOLIN.HFA  VERAPAMIL.ER  VESICARE  VOLTAREN  VYTORIN  WARFARIN.SODIUM  \\\n",
       "0             0             0         0         0        0                0   \n",
       "1             0             0         0         0        0                0   \n",
       "2             0             0         0         0        0                0   \n",
       "3             0             0         0         0        0                0   \n",
       "4             0             0         0         0        0               17   \n",
       "\n",
       "   XARELTO  ZETIA  ZIPRASIDONE.HCL  ZOLPIDEM.TARTRATE  \n",
       "0        0      0                0                  0  \n",
       "1        0      0                0                 35  \n",
       "2        0      0                0                 25  \n",
       "3        0      0                0                  0  \n",
       "4       28      0                0                  0  \n",
       "\n",
       "[5 rows x 241 columns]"
      ]
     },
     "execution_count": 31,
     "metadata": {},
     "output_type": "execute_result"
    }
   ],
   "source": [
    "X = df.iloc[:,1:242]\n",
    "y = df['Opioid.Prescriber']\n",
    "X.head()"
   ]
  },
  {
   "cell_type": "markdown",
   "metadata": {},
   "source": [
    "<h>Train-Test Splits</h>"
   ]
  },
  {
   "cell_type": "code",
   "execution_count": 25,
   "metadata": {},
   "outputs": [
    {
     "name": "stdout",
     "output_type": "stream",
     "text": [
      "Perceptron \n",
      "\tAcc: 0.6978998384491113 \t\n",
      "\n",
      "KNeighborsClassifier \n",
      "\tAcc: 0.7673667205169619 \t\n",
      "\n",
      "GaussianNB \n",
      "\tAcc: 0.6211631663974159 \t\n",
      "\n",
      "DecisionTreeClassifier \n",
      "\tAcc: 0.6993638933764136 \t\n",
      "\n"
     ]
    }
   ],
   "source": [
    "pd.options.mode.chained_assignment = None\n",
    "acc_per = 0\n",
    "roc_per = 0\n",
    "acc_Knn = 0\n",
    "acc_GB  = 0\n",
    "roc_GB  = 0\n",
    "roc_Knn  = 0\n",
    "acc_DT  = 0\n",
    "roc_DT  = 0\n",
    "acc_list_per = []\n",
    "roc_list_per = []\n",
    "acc_list_knn = []\n",
    "roc_list_knn = []\n",
    "acc_list_gb = []\n",
    "roc_list_gb = []\n",
    "acc_list_dt = []\n",
    "roc_list_dt = []\n",
    "for i in range(100):\n",
    "    train,test = train_test_split(df,test_size = 0.2,random_state = 42)\n",
    "    Categorical_columns = ['Gender','State','Specialty']\n",
    "\n",
    "    for col in Categorical_columns:\n",
    "        train[col] = pd.factorize(train[col], sort = True)[0]\n",
    "        test[col] = pd.factorize(test[col],sort = True)[0]\n",
    "    \n",
    "    # Set our features.\n",
    "    features = train.iloc[:,1:242] #make sure we only use the columns that we want as our features\n",
    "    features_test = test.iloc[:,1:242]\n",
    "    y_train = train['Opioid.Prescriber']\n",
    "    y_test = test['Opioid.Prescriber']\n",
    "    #features.head()\n",
    "    clf_per = Perceptron(max_iter=1000, tol=1e-3)\n",
    "    clf_per.fit(features, y_train)\n",
    "    y_pred_P = clf_per.predict(features_test)\n",
    "    acc = accuracy_score(y_test, y_pred_P);\n",
    "    acc_per += acc\n",
    "    acc_list_per.append(acc)\n",
    "    \n",
    "    clf_knn = KNeighborsClassifier(n_neighbors=17)\n",
    "\n",
    "    clf_knn.fit(features, y_train)\n",
    "\n",
    "    y_pred_KN = clf_knn.predict(features_test)\n",
    "    clf_knn.kneighbors(features_test);\n",
    "    \n",
    "    acc_Knn += accuracy_score(y_test, y_pred_KN)\n",
    "    acc_list_knn.append(accuracy_score(y_test, y_pred_KN))\n",
    "    \n",
    "    \n",
    "    clf_gnb = GaussianNB()\n",
    "    clf_gnb.fit(features, y_train)\n",
    "\n",
    "    y_pred_GB = clf_gnb.predict(features_test)\n",
    "    \n",
    "    acc_GB += accuracy_score(y_test, y_pred_GB)\n",
    "    acc_list_gb.append(accuracy_score(y_test, y_pred_GB))  \n",
    "    \n",
    "    clf_dtc = DecisionTreeClassifier()\n",
    "    clf_dtc.fit(features, y_train)\n",
    "\n",
    "    y_pred_dt = clf_dtc.predict(features_test)\n",
    "\n",
    "    acc_DT += accuracy_score(y_test, y_pred_dt)\n",
    "    acc_list_dt.append(accuracy_score(y_test, y_pred_dt))\n",
    "\n",
    "print(\"{} \\n\\tAcc: {} \\t\\n\".format(str(type(clf_per)).split('.')[-1][:-2], (acc_per)/100,(np.std(acc_list_per))))\n",
    "print(\"{} \\n\\tAcc: {} \\t\\n\".format(str(type(clf_knn)).split('.')[-1][:-2], (acc_Knn)/100,(np.std(acc_list_knn))))\n",
    "print(\"{} \\n\\tAcc: {} \\t\\n\".format(str(type(clf_gnb)).split('.')[-1][:-2], (acc_GB)/100,(np.std(acc_list_gb))))\n",
    "print(\"{} \\n\\tAcc: {} \\t\\n\".format(str(type(clf_dtc)).split('.')[-1][:-2], (acc_DT)/100,(np.std(acc_list_dt))))"
   ]
  },
  {
   "cell_type": "markdown",
   "metadata": {},
   "source": [
    "<h2>5-Cross Validation</h2>"
   ]
  },
  {
   "cell_type": "code",
   "execution_count": 32,
   "metadata": {},
   "outputs": [
    {
     "name": "stdout",
     "output_type": "stream",
     "text": [
      "Perceptron \n",
      "\tAcc: 0.6970000000000012 \tstd_dev: 1.1102230246251565e-16\n",
      "\n",
      "KNeighborsClassifier \n",
      "\tAcc: 0.7819999999999979 \tstd_dev: 1.1102230246251565e-16\n",
      "\n",
      "GaussianNB \n",
      "\tAcc: 0.6120000000000004 \tstd_dev: 1.1102230246251565e-16\n",
      "\n",
      "DecisionTreeClassifier \n",
      "\tAcc: 0.7784400000000008 \tstd_dev: 0.0010326664514740478\n",
      "\n"
     ]
    }
   ],
   "source": [
    "X = df.iloc[:,1:242]\n",
    "from sklearn.preprocessing import LabelEncoder\n",
    "# creating instance of labelencoder\n",
    "labelencoder = LabelEncoder()\n",
    "X['State'] = labelencoder.fit_transform(X['State'])\n",
    "X['Specialty'] = labelencoder.fit_transform(X['Specialty'])\n",
    "y = df['Opioid.Prescriber']\n",
    "clfs = [\n",
    "    Perceptron(tol=1e-3),\n",
    "    KNeighborsClassifier(),\n",
    "    GaussianNB(),\n",
    "    DecisionTreeClassifier()\n",
    "]\n",
    "\n",
    "n_splits = 5\n",
    "for i, clf in enumerate(clfs):\n",
    "    skf_acc_avg = 0\n",
    "    skf_auc_avg = 0\n",
    "    acc_list = []\n",
    "    roc_list = []\n",
    "    \n",
    "    for k in range(100):\n",
    "        skf_acc = 0\n",
    "        skf_auc = 0\n",
    "        skf = StratifiedKFold(n_splits=n_splits, shuffle=True, random_state=i)\n",
    "        for train_index, test_index in skf.split(X, y):\n",
    "            # Split the data into training and testing sets.\n",
    "            X_train, X_test = X.iloc[train_index], X.iloc[test_index]\n",
    "            y_train, y_test = y.iloc[train_index], y.iloc[test_index]\n",
    "\n",
    "            # Fit the model and get predictions.\n",
    "            clf.fit(X_train, y_train)\n",
    "            y_pred = clf.predict(X_test)\n",
    "\n",
    "\n",
    "            skf_acc += accuracy_score(y_test, y_pred)\n",
    "\n",
    "\n",
    "        skf_acc = round(skf_acc / n_splits, 3)\n",
    "        \n",
    "        skf_acc_avg += skf_acc\n",
    "        acc_list.append(skf_acc)\n",
    "        roc_list.append(skf_auc)\n",
    "\n",
    "        clf_name = str(type(clf)).split('.')[-1][:-2]\n",
    "    \n",
    "    print(\"{} \\n\\tAcc: {} \\tstd_dev: {}\\n\".format(clf_name, skf_acc_avg/100,(np.std(acc_list)), skf_auc_avg/100,(np.std(roc_list))))"
   ]
  },
  {
   "cell_type": "code",
   "execution_count": null,
   "metadata": {},
   "outputs": [],
   "source": []
  }
 ],
 "metadata": {
  "kernelspec": {
   "display_name": "Python 3",
   "language": "python",
   "name": "python3"
  },
  "language_info": {
   "codemirror_mode": {
    "name": "ipython",
    "version": 3
   },
   "file_extension": ".py",
   "mimetype": "text/x-python",
   "name": "python",
   "nbconvert_exporter": "python",
   "pygments_lexer": "ipython3",
   "version": "3.8.5"
  }
 },
 "nbformat": 4,
 "nbformat_minor": 4
}

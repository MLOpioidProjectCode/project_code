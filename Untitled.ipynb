{
 "cells": [
  {
   "cell_type": "markdown",
   "id": "accredited-identification",
   "metadata": {},
   "source": [
    "Hypothesis:  Determining a relationship between prescribing opiods and death rates can classify whether a prescriber is over-prescribing opioids."
   ]
  },
  {
   "cell_type": "code",
   "execution_count": null,
   "id": "complex-imperial",
   "metadata": {},
   "outputs": [],
   "source": [
    "from tensorflow import keras\n",
    "from tensorflow.keras import layers"
   ]
  },
  {
   "cell_type": "code",
   "execution_count": null,
   "id": "innovative-crash",
   "metadata": {},
   "outputs": [],
   "source": []
  }
 ],
 "metadata": {
  "kernelspec": {
   "display_name": "Python 3",
   "language": "python",
   "name": "python3"
  },
  "language_info": {
   "codemirror_mode": {
    "name": "ipython",
    "version": 3
   },
   "file_extension": ".py",
   "mimetype": "text/x-python",
   "name": "python",
   "nbconvert_exporter": "python",
   "pygments_lexer": "ipython3",
   "version": "3.9.1"
  }
 },
 "nbformat": 4,
 "nbformat_minor": 5
}
